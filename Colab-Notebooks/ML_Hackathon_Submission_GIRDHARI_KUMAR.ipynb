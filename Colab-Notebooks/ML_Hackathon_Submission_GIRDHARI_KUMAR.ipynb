{
 "cells": [
  {
   "cell_type": "code",
   "execution_count": 1,
   "id": "7edf9c1c",
   "metadata": {},
   "outputs": [],
   "source": [
    "# Importing required libraries\n",
    "\n",
    "# For data manipulation\n",
    "import numpy as np\n",
    "import pandas as pd\n",
    "\n",
    "# For data visualization\n",
    "import matplotlib.pyplot as plt\n",
    "import seaborn as sns\n",
    "%matplotlib inline\n",
    "\n",
    "import warnings\n",
    "warnings.filterwarnings('ignore')\n",
    "\n",
    "# Will import machine learning libraries on the go"
   ]
  },
  {
   "cell_type": "markdown",
   "id": "352cce9b",
   "metadata": {},
   "source": [
    "## Exploratory Data Analysis (EDA)"
   ]
  },
  {
   "cell_type": "markdown",
   "id": "b727fa26",
   "metadata": {},
   "source": [
    "I have moved all data files into one single folder for ease in analysis."
   ]
  },
  {
   "cell_type": "code",
   "execution_count": 2,
   "id": "32f778df",
   "metadata": {},
   "outputs": [],
   "source": [
    "# Importing train and test data\n",
    "train_df = pd.read_csv(\"data/sales_train.csv\")\n",
    "test_df = pd.read_csv(\"data/test_data.csv\")"
   ]
  },
  {
   "cell_type": "code",
   "execution_count": 3,
   "id": "4188aae9",
   "metadata": {},
   "outputs": [
    {
     "data": {
      "text/html": [
       "<div>\n",
       "<style scoped>\n",
       "    .dataframe tbody tr th:only-of-type {\n",
       "        vertical-align: middle;\n",
       "    }\n",
       "\n",
       "    .dataframe tbody tr th {\n",
       "        vertical-align: top;\n",
       "    }\n",
       "\n",
       "    .dataframe thead th {\n",
       "        text-align: right;\n",
       "    }\n",
       "</style>\n",
       "<table border=\"1\" class=\"dataframe\">\n",
       "  <thead>\n",
       "    <tr style=\"text-align: right;\">\n",
       "      <th></th>\n",
       "      <th>outletCode</th>\n",
       "      <th>invoice_date</th>\n",
       "      <th>itemCode</th>\n",
       "      <th>sales_in_litres</th>\n",
       "    </tr>\n",
       "  </thead>\n",
       "  <tbody>\n",
       "    <tr>\n",
       "      <th>0</th>\n",
       "      <td>customer_id_1</td>\n",
       "      <td>20/11/2019</td>\n",
       "      <td>sku_id_51</td>\n",
       "      <td>44.0</td>\n",
       "    </tr>\n",
       "    <tr>\n",
       "      <th>1</th>\n",
       "      <td>customer_id_2</td>\n",
       "      <td>13/04/2019</td>\n",
       "      <td>sku_id_51</td>\n",
       "      <td>22.0</td>\n",
       "    </tr>\n",
       "    <tr>\n",
       "      <th>2</th>\n",
       "      <td>customer_id_5</td>\n",
       "      <td>06/04/2019</td>\n",
       "      <td>sku_id_51</td>\n",
       "      <td>22.0</td>\n",
       "    </tr>\n",
       "    <tr>\n",
       "      <th>3</th>\n",
       "      <td>customer_id_5</td>\n",
       "      <td>07/05/2019</td>\n",
       "      <td>sku_id_51</td>\n",
       "      <td>22.0</td>\n",
       "    </tr>\n",
       "    <tr>\n",
       "      <th>4</th>\n",
       "      <td>customer_id_5</td>\n",
       "      <td>01/06/2019</td>\n",
       "      <td>sku_id_51</td>\n",
       "      <td>22.0</td>\n",
       "    </tr>\n",
       "  </tbody>\n",
       "</table>\n",
       "</div>"
      ],
      "text/plain": [
       "      outletCode invoice_date   itemCode  sales_in_litres\n",
       "0  customer_id_1   20/11/2019  sku_id_51             44.0\n",
       "1  customer_id_2   13/04/2019  sku_id_51             22.0\n",
       "2  customer_id_5   06/04/2019  sku_id_51             22.0\n",
       "3  customer_id_5   07/05/2019  sku_id_51             22.0\n",
       "4  customer_id_5   01/06/2019  sku_id_51             22.0"
      ]
     },
     "execution_count": 3,
     "metadata": {},
     "output_type": "execute_result"
    }
   ],
   "source": [
    "train_df.head()"
   ]
  },
  {
   "cell_type": "code",
   "execution_count": 4,
   "id": "5807d036",
   "metadata": {},
   "outputs": [
    {
     "data": {
      "text/html": [
       "<div>\n",
       "<style scoped>\n",
       "    .dataframe tbody tr th:only-of-type {\n",
       "        vertical-align: middle;\n",
       "    }\n",
       "\n",
       "    .dataframe tbody tr th {\n",
       "        vertical-align: top;\n",
       "    }\n",
       "\n",
       "    .dataframe thead th {\n",
       "        text-align: right;\n",
       "    }\n",
       "</style>\n",
       "<table border=\"1\" class=\"dataframe\">\n",
       "  <thead>\n",
       "    <tr style=\"text-align: right;\">\n",
       "      <th></th>\n",
       "      <th>outletCode</th>\n",
       "      <th>invoice_date</th>\n",
       "      <th>itemCode</th>\n",
       "      <th>actual_sales_in_litres</th>\n",
       "      <th>predicted_sales_in_litres</th>\n",
       "    </tr>\n",
       "  </thead>\n",
       "  <tbody>\n",
       "    <tr>\n",
       "      <th>0</th>\n",
       "      <td>customer_id_10</td>\n",
       "      <td>12/10/2019</td>\n",
       "      <td>sku_id_48</td>\n",
       "      <td>5</td>\n",
       "      <td>NaN</td>\n",
       "    </tr>\n",
       "    <tr>\n",
       "      <th>1</th>\n",
       "      <td>customer_id_10</td>\n",
       "      <td>14/12/2019</td>\n",
       "      <td>sku_id_53</td>\n",
       "      <td>5</td>\n",
       "      <td>NaN</td>\n",
       "    </tr>\n",
       "    <tr>\n",
       "      <th>2</th>\n",
       "      <td>customer_id_10</td>\n",
       "      <td>08/01/2020</td>\n",
       "      <td>sku_id_48</td>\n",
       "      <td>5</td>\n",
       "      <td>NaN</td>\n",
       "    </tr>\n",
       "    <tr>\n",
       "      <th>3</th>\n",
       "      <td>customer_id_1000</td>\n",
       "      <td>21/10/2020</td>\n",
       "      <td>sku_id_14</td>\n",
       "      <td>4</td>\n",
       "      <td>NaN</td>\n",
       "    </tr>\n",
       "    <tr>\n",
       "      <th>4</th>\n",
       "      <td>customer_id_1000</td>\n",
       "      <td>21/10/2020</td>\n",
       "      <td>sku_id_11</td>\n",
       "      <td>12</td>\n",
       "      <td>NaN</td>\n",
       "    </tr>\n",
       "  </tbody>\n",
       "</table>\n",
       "</div>"
      ],
      "text/plain": [
       "         outletCode invoice_date   itemCode  actual_sales_in_litres  \\\n",
       "0    customer_id_10   12/10/2019  sku_id_48                       5   \n",
       "1    customer_id_10   14/12/2019  sku_id_53                       5   \n",
       "2    customer_id_10   08/01/2020  sku_id_48                       5   \n",
       "3  customer_id_1000   21/10/2020  sku_id_14                       4   \n",
       "4  customer_id_1000   21/10/2020  sku_id_11                      12   \n",
       "\n",
       "   predicted_sales_in_litres  \n",
       "0                        NaN  \n",
       "1                        NaN  \n",
       "2                        NaN  \n",
       "3                        NaN  \n",
       "4                        NaN  "
      ]
     },
     "execution_count": 4,
     "metadata": {},
     "output_type": "execute_result"
    }
   ],
   "source": [
    "test_df.head()"
   ]
  },
  {
   "cell_type": "markdown",
   "id": "27666599",
   "metadata": {},
   "source": [
    "### **Removing `predicted_sales_in_litres` from `test_df` for now.**"
   ]
  },
  {
   "cell_type": "code",
   "execution_count": 5,
   "id": "78d9863c",
   "metadata": {},
   "outputs": [],
   "source": [
    "test_df_actual = test_df.drop(\"predicted_sales_in_litres\", axis=1)"
   ]
  },
  {
   "cell_type": "code",
   "execution_count": 6,
   "id": "611477ef",
   "metadata": {},
   "outputs": [
    {
     "data": {
      "text/plain": [
       "outletCode         0\n",
       "invoice_date       0\n",
       "itemCode           0\n",
       "sales_in_litres    0\n",
       "dtype: int64"
      ]
     },
     "execution_count": 6,
     "metadata": {},
     "output_type": "execute_result"
    }
   ],
   "source": [
    "# Checking for missing values in train and test data\n",
    "train_df.isna().sum()"
   ]
  },
  {
   "cell_type": "code",
   "execution_count": 7,
   "id": "3537f568",
   "metadata": {},
   "outputs": [
    {
     "data": {
      "text/plain": [
       "outletCode                0\n",
       "invoice_date              0\n",
       "itemCode                  0\n",
       "actual_sales_in_litres    0\n",
       "dtype: int64"
      ]
     },
     "execution_count": 7,
     "metadata": {},
     "output_type": "execute_result"
    }
   ],
   "source": [
    "test_df_actual.isna().sum()"
   ]
  },
  {
   "cell_type": "markdown",
   "id": "90349292",
   "metadata": {},
   "source": [
    "**Hence there are no missing values in both datasets.**"
   ]
  },
  {
   "cell_type": "code",
   "execution_count": 8,
   "id": "52e489e9",
   "metadata": {},
   "outputs": [
    {
     "data": {
      "text/plain": [
       "outletCode          object\n",
       "invoice_date        object\n",
       "itemCode            object\n",
       "sales_in_litres    float64\n",
       "dtype: object"
      ]
     },
     "execution_count": 8,
     "metadata": {},
     "output_type": "execute_result"
    }
   ],
   "source": [
    "# Checking Datatypes\n",
    "train_df.dtypes"
   ]
  },
  {
   "cell_type": "code",
   "execution_count": 9,
   "id": "d9feb101",
   "metadata": {},
   "outputs": [
    {
     "data": {
      "text/plain": [
       "outletCode                object\n",
       "invoice_date              object\n",
       "itemCode                  object\n",
       "actual_sales_in_litres     int64\n",
       "dtype: object"
      ]
     },
     "execution_count": 9,
     "metadata": {},
     "output_type": "execute_result"
    }
   ],
   "source": [
    "test_df_actual.dtypes"
   ]
  },
  {
   "cell_type": "markdown",
   "id": "41a7250b",
   "metadata": {},
   "source": [
    "**Here `invoice_date` column is showing as `object` datatype but it should be `datetime`.**"
   ]
  },
  {
   "cell_type": "code",
   "execution_count": 10,
   "id": "65f3bab6",
   "metadata": {},
   "outputs": [],
   "source": [
    "# Changing the datatype of invoice_date\n",
    "train_df[\"invoice_date\"] = pd.to_datetime(train_df[\"invoice_date\"],\n",
    "                                      format='%d/%m/%Y')\n",
    "\n",
    "test_df_actual[\"invoice_date\"] = pd.to_datetime(test_df_actual[\"invoice_date\"],\n",
    "                                      format='%d/%m/%Y')"
   ]
  },
  {
   "cell_type": "code",
   "execution_count": 11,
   "id": "5e239955",
   "metadata": {},
   "outputs": [
    {
     "data": {
      "text/html": [
       "<div>\n",
       "<style scoped>\n",
       "    .dataframe tbody tr th:only-of-type {\n",
       "        vertical-align: middle;\n",
       "    }\n",
       "\n",
       "    .dataframe tbody tr th {\n",
       "        vertical-align: top;\n",
       "    }\n",
       "\n",
       "    .dataframe thead th {\n",
       "        text-align: right;\n",
       "    }\n",
       "</style>\n",
       "<table border=\"1\" class=\"dataframe\">\n",
       "  <thead>\n",
       "    <tr style=\"text-align: right;\">\n",
       "      <th></th>\n",
       "      <th>outletCode</th>\n",
       "      <th>invoice_date</th>\n",
       "      <th>itemCode</th>\n",
       "      <th>sales_in_litres</th>\n",
       "    </tr>\n",
       "  </thead>\n",
       "  <tbody>\n",
       "    <tr>\n",
       "      <th>0</th>\n",
       "      <td>customer_id_1</td>\n",
       "      <td>2019-11-20</td>\n",
       "      <td>sku_id_51</td>\n",
       "      <td>44.0</td>\n",
       "    </tr>\n",
       "    <tr>\n",
       "      <th>1</th>\n",
       "      <td>customer_id_2</td>\n",
       "      <td>2019-04-13</td>\n",
       "      <td>sku_id_51</td>\n",
       "      <td>22.0</td>\n",
       "    </tr>\n",
       "    <tr>\n",
       "      <th>2</th>\n",
       "      <td>customer_id_5</td>\n",
       "      <td>2019-04-06</td>\n",
       "      <td>sku_id_51</td>\n",
       "      <td>22.0</td>\n",
       "    </tr>\n",
       "    <tr>\n",
       "      <th>3</th>\n",
       "      <td>customer_id_5</td>\n",
       "      <td>2019-05-07</td>\n",
       "      <td>sku_id_51</td>\n",
       "      <td>22.0</td>\n",
       "    </tr>\n",
       "    <tr>\n",
       "      <th>4</th>\n",
       "      <td>customer_id_5</td>\n",
       "      <td>2019-06-01</td>\n",
       "      <td>sku_id_51</td>\n",
       "      <td>22.0</td>\n",
       "    </tr>\n",
       "  </tbody>\n",
       "</table>\n",
       "</div>"
      ],
      "text/plain": [
       "      outletCode invoice_date   itemCode  sales_in_litres\n",
       "0  customer_id_1   2019-11-20  sku_id_51             44.0\n",
       "1  customer_id_2   2019-04-13  sku_id_51             22.0\n",
       "2  customer_id_5   2019-04-06  sku_id_51             22.0\n",
       "3  customer_id_5   2019-05-07  sku_id_51             22.0\n",
       "4  customer_id_5   2019-06-01  sku_id_51             22.0"
      ]
     },
     "execution_count": 11,
     "metadata": {},
     "output_type": "execute_result"
    }
   ],
   "source": [
    "train_df.head()"
   ]
  },
  {
   "cell_type": "code",
   "execution_count": 12,
   "id": "0a595af2",
   "metadata": {},
   "outputs": [
    {
     "data": {
      "text/html": [
       "<div>\n",
       "<style scoped>\n",
       "    .dataframe tbody tr th:only-of-type {\n",
       "        vertical-align: middle;\n",
       "    }\n",
       "\n",
       "    .dataframe tbody tr th {\n",
       "        vertical-align: top;\n",
       "    }\n",
       "\n",
       "    .dataframe thead th {\n",
       "        text-align: right;\n",
       "    }\n",
       "</style>\n",
       "<table border=\"1\" class=\"dataframe\">\n",
       "  <thead>\n",
       "    <tr style=\"text-align: right;\">\n",
       "      <th></th>\n",
       "      <th>outletCode</th>\n",
       "      <th>invoice_date</th>\n",
       "      <th>itemCode</th>\n",
       "      <th>actual_sales_in_litres</th>\n",
       "    </tr>\n",
       "  </thead>\n",
       "  <tbody>\n",
       "    <tr>\n",
       "      <th>0</th>\n",
       "      <td>customer_id_10</td>\n",
       "      <td>2019-10-12</td>\n",
       "      <td>sku_id_48</td>\n",
       "      <td>5</td>\n",
       "    </tr>\n",
       "    <tr>\n",
       "      <th>1</th>\n",
       "      <td>customer_id_10</td>\n",
       "      <td>2019-12-14</td>\n",
       "      <td>sku_id_53</td>\n",
       "      <td>5</td>\n",
       "    </tr>\n",
       "    <tr>\n",
       "      <th>2</th>\n",
       "      <td>customer_id_10</td>\n",
       "      <td>2020-01-08</td>\n",
       "      <td>sku_id_48</td>\n",
       "      <td>5</td>\n",
       "    </tr>\n",
       "    <tr>\n",
       "      <th>3</th>\n",
       "      <td>customer_id_1000</td>\n",
       "      <td>2020-10-21</td>\n",
       "      <td>sku_id_14</td>\n",
       "      <td>4</td>\n",
       "    </tr>\n",
       "    <tr>\n",
       "      <th>4</th>\n",
       "      <td>customer_id_1000</td>\n",
       "      <td>2020-10-21</td>\n",
       "      <td>sku_id_11</td>\n",
       "      <td>12</td>\n",
       "    </tr>\n",
       "  </tbody>\n",
       "</table>\n",
       "</div>"
      ],
      "text/plain": [
       "         outletCode invoice_date   itemCode  actual_sales_in_litres\n",
       "0    customer_id_10   2019-10-12  sku_id_48                       5\n",
       "1    customer_id_10   2019-12-14  sku_id_53                       5\n",
       "2    customer_id_10   2020-01-08  sku_id_48                       5\n",
       "3  customer_id_1000   2020-10-21  sku_id_14                       4\n",
       "4  customer_id_1000   2020-10-21  sku_id_11                      12"
      ]
     },
     "execution_count": 12,
     "metadata": {},
     "output_type": "execute_result"
    }
   ],
   "source": [
    "test_df_actual.head()"
   ]
  },
  {
   "cell_type": "markdown",
   "id": "8bcfaf68",
   "metadata": {},
   "source": [
    "**The `invoice_date` column values are not in order.**"
   ]
  },
  {
   "cell_type": "code",
   "execution_count": 13,
   "id": "b0458d35",
   "metadata": {},
   "outputs": [
    {
     "data": {
      "text/html": [
       "<div>\n",
       "<style scoped>\n",
       "    .dataframe tbody tr th:only-of-type {\n",
       "        vertical-align: middle;\n",
       "    }\n",
       "\n",
       "    .dataframe tbody tr th {\n",
       "        vertical-align: top;\n",
       "    }\n",
       "\n",
       "    .dataframe thead th {\n",
       "        text-align: right;\n",
       "    }\n",
       "</style>\n",
       "<table border=\"1\" class=\"dataframe\">\n",
       "  <thead>\n",
       "    <tr style=\"text-align: right;\">\n",
       "      <th></th>\n",
       "      <th>outletCode</th>\n",
       "      <th>invoice_date</th>\n",
       "      <th>itemCode</th>\n",
       "      <th>sales_in_litres</th>\n",
       "    </tr>\n",
       "  </thead>\n",
       "  <tbody>\n",
       "    <tr>\n",
       "      <th>0</th>\n",
       "      <td>customer_id_2744</td>\n",
       "      <td>2019-01-01</td>\n",
       "      <td>sku_id_17</td>\n",
       "      <td>16.0</td>\n",
       "    </tr>\n",
       "    <tr>\n",
       "      <th>1</th>\n",
       "      <td>customer_id_1266</td>\n",
       "      <td>2019-01-01</td>\n",
       "      <td>sku_id_14</td>\n",
       "      <td>24.0</td>\n",
       "    </tr>\n",
       "    <tr>\n",
       "      <th>2</th>\n",
       "      <td>customer_id_766</td>\n",
       "      <td>2019-01-01</td>\n",
       "      <td>sku_id_15</td>\n",
       "      <td>5.0</td>\n",
       "    </tr>\n",
       "    <tr>\n",
       "      <th>3</th>\n",
       "      <td>customer_id_1999</td>\n",
       "      <td>2019-01-01</td>\n",
       "      <td>sku_id_11</td>\n",
       "      <td>12.0</td>\n",
       "    </tr>\n",
       "    <tr>\n",
       "      <th>4</th>\n",
       "      <td>customer_id_1048</td>\n",
       "      <td>2019-01-01</td>\n",
       "      <td>sku_id_60</td>\n",
       "      <td>12.0</td>\n",
       "    </tr>\n",
       "  </tbody>\n",
       "</table>\n",
       "</div>"
      ],
      "text/plain": [
       "         outletCode invoice_date   itemCode  sales_in_litres\n",
       "0  customer_id_2744   2019-01-01  sku_id_17             16.0\n",
       "1  customer_id_1266   2019-01-01  sku_id_14             24.0\n",
       "2   customer_id_766   2019-01-01  sku_id_15              5.0\n",
       "3  customer_id_1999   2019-01-01  sku_id_11             12.0\n",
       "4  customer_id_1048   2019-01-01  sku_id_60             12.0"
      ]
     },
     "execution_count": 13,
     "metadata": {},
     "output_type": "execute_result"
    }
   ],
   "source": [
    "# Sorting the invoice_date column\n",
    "train_df.sort_values(by=[\"invoice_date\"], inplace=True, ignore_index=True)\n",
    "train_df.head()"
   ]
  },
  {
   "cell_type": "code",
   "execution_count": 14,
   "id": "e92e5e8a",
   "metadata": {},
   "outputs": [
    {
     "data": {
      "text/html": [
       "<div>\n",
       "<style scoped>\n",
       "    .dataframe tbody tr th:only-of-type {\n",
       "        vertical-align: middle;\n",
       "    }\n",
       "\n",
       "    .dataframe tbody tr th {\n",
       "        vertical-align: top;\n",
       "    }\n",
       "\n",
       "    .dataframe thead th {\n",
       "        text-align: right;\n",
       "    }\n",
       "</style>\n",
       "<table border=\"1\" class=\"dataframe\">\n",
       "  <thead>\n",
       "    <tr style=\"text-align: right;\">\n",
       "      <th></th>\n",
       "      <th>outletCode</th>\n",
       "      <th>invoice_date</th>\n",
       "      <th>itemCode</th>\n",
       "      <th>actual_sales_in_litres</th>\n",
       "    </tr>\n",
       "  </thead>\n",
       "  <tbody>\n",
       "    <tr>\n",
       "      <th>0</th>\n",
       "      <td>customer_id_1552</td>\n",
       "      <td>2019-02-27</td>\n",
       "      <td>sku_id_44</td>\n",
       "      <td>30</td>\n",
       "    </tr>\n",
       "    <tr>\n",
       "      <th>1</th>\n",
       "      <td>customer_id_1552</td>\n",
       "      <td>2019-02-27</td>\n",
       "      <td>sku_id_12</td>\n",
       "      <td>16</td>\n",
       "    </tr>\n",
       "    <tr>\n",
       "      <th>2</th>\n",
       "      <td>customer_id_1552</td>\n",
       "      <td>2019-03-13</td>\n",
       "      <td>sku_id_44</td>\n",
       "      <td>45</td>\n",
       "    </tr>\n",
       "    <tr>\n",
       "      <th>3</th>\n",
       "      <td>customer_id_359</td>\n",
       "      <td>2019-03-23</td>\n",
       "      <td>sku_id_19</td>\n",
       "      <td>16</td>\n",
       "    </tr>\n",
       "    <tr>\n",
       "      <th>4</th>\n",
       "      <td>customer_id_1080</td>\n",
       "      <td>2019-04-01</td>\n",
       "      <td>sku_id_66</td>\n",
       "      <td>3</td>\n",
       "    </tr>\n",
       "  </tbody>\n",
       "</table>\n",
       "</div>"
      ],
      "text/plain": [
       "         outletCode invoice_date   itemCode  actual_sales_in_litres\n",
       "0  customer_id_1552   2019-02-27  sku_id_44                      30\n",
       "1  customer_id_1552   2019-02-27  sku_id_12                      16\n",
       "2  customer_id_1552   2019-03-13  sku_id_44                      45\n",
       "3   customer_id_359   2019-03-23  sku_id_19                      16\n",
       "4  customer_id_1080   2019-04-01  sku_id_66                       3"
      ]
     },
     "execution_count": 14,
     "metadata": {},
     "output_type": "execute_result"
    }
   ],
   "source": [
    "test_df_actual.sort_values(by=[\"invoice_date\"], inplace=True, ignore_index=True)\n",
    "test_df_actual.head()"
   ]
  },
  {
   "cell_type": "markdown",
   "id": "3ae44196",
   "metadata": {},
   "source": [
    "### Importing `item_master` data and `outlet_master` data..."
   ]
  },
  {
   "cell_type": "code",
   "execution_count": 15,
   "id": "87fbc5c4",
   "metadata": {},
   "outputs": [],
   "source": [
    "item_data = pd.read_csv(\"data/item_master.csv\")\n",
    "outlet_data = pd.read_csv(\"data/outlet_master.csv\")"
   ]
  },
  {
   "cell_type": "code",
   "execution_count": 16,
   "id": "ce594097",
   "metadata": {},
   "outputs": [
    {
     "data": {
      "text/plain": [
       "itemCode       0\n",
       "packet_size    0\n",
       "brand          0\n",
       "category       0\n",
       "class          0\n",
       "dtype: int64"
      ]
     },
     "execution_count": 16,
     "metadata": {},
     "output_type": "execute_result"
    }
   ],
   "source": [
    "# Checking for missing values\n",
    "item_data.isna().sum()"
   ]
  },
  {
   "cell_type": "code",
   "execution_count": 17,
   "id": "073b97ac",
   "metadata": {},
   "outputs": [
    {
     "data": {
      "text/plain": [
       "outletCode        0\n",
       "latitude          0\n",
       "longitude         0\n",
       "outletType        0\n",
       "outletCategory    0\n",
       "dtype: int64"
      ]
     },
     "execution_count": 17,
     "metadata": {},
     "output_type": "execute_result"
    }
   ],
   "source": [
    "outlet_data.isna().sum()"
   ]
  },
  {
   "cell_type": "markdown",
   "id": "0d0e9c93",
   "metadata": {},
   "source": [
    "**No missing value**"
   ]
  },
  {
   "cell_type": "code",
   "execution_count": 18,
   "id": "1cb0a4d8",
   "metadata": {},
   "outputs": [
    {
     "data": {
      "text/html": [
       "<div>\n",
       "<style scoped>\n",
       "    .dataframe tbody tr th:only-of-type {\n",
       "        vertical-align: middle;\n",
       "    }\n",
       "\n",
       "    .dataframe tbody tr th {\n",
       "        vertical-align: top;\n",
       "    }\n",
       "\n",
       "    .dataframe thead th {\n",
       "        text-align: right;\n",
       "    }\n",
       "</style>\n",
       "<table border=\"1\" class=\"dataframe\">\n",
       "  <thead>\n",
       "    <tr style=\"text-align: right;\">\n",
       "      <th></th>\n",
       "      <th>itemCode</th>\n",
       "      <th>packet_size</th>\n",
       "      <th>brand</th>\n",
       "      <th>category</th>\n",
       "      <th>class</th>\n",
       "    </tr>\n",
       "  </thead>\n",
       "  <tbody>\n",
       "    <tr>\n",
       "      <th>0</th>\n",
       "      <td>sku_id_1</td>\n",
       "      <td>1.0</td>\n",
       "      <td>brand_1</td>\n",
       "      <td>sku_category_1</td>\n",
       "      <td>sku_class_1</td>\n",
       "    </tr>\n",
       "    <tr>\n",
       "      <th>1</th>\n",
       "      <td>sku_id_38</td>\n",
       "      <td>209.0</td>\n",
       "      <td>brand_9</td>\n",
       "      <td>sku_category_15</td>\n",
       "      <td>sku_class_1</td>\n",
       "    </tr>\n",
       "    <tr>\n",
       "      <th>2</th>\n",
       "      <td>sku_id_40</td>\n",
       "      <td>209.0</td>\n",
       "      <td>brand_9</td>\n",
       "      <td>sku_category_16</td>\n",
       "      <td>sku_class_1</td>\n",
       "    </tr>\n",
       "    <tr>\n",
       "      <th>3</th>\n",
       "      <td>sku_id_42</td>\n",
       "      <td>22.0</td>\n",
       "      <td>brand_9</td>\n",
       "      <td>sku_category_16</td>\n",
       "      <td>sku_class_1</td>\n",
       "    </tr>\n",
       "    <tr>\n",
       "      <th>4</th>\n",
       "      <td>sku_id_43</td>\n",
       "      <td>5.0</td>\n",
       "      <td>brand_9</td>\n",
       "      <td>sku_category_16</td>\n",
       "      <td>sku_class_1</td>\n",
       "    </tr>\n",
       "  </tbody>\n",
       "</table>\n",
       "</div>"
      ],
      "text/plain": [
       "    itemCode  packet_size    brand         category        class\n",
       "0   sku_id_1          1.0  brand_1   sku_category_1  sku_class_1\n",
       "1  sku_id_38        209.0  brand_9  sku_category_15  sku_class_1\n",
       "2  sku_id_40        209.0  brand_9  sku_category_16  sku_class_1\n",
       "3  sku_id_42         22.0  brand_9  sku_category_16  sku_class_1\n",
       "4  sku_id_43          5.0  brand_9  sku_category_16  sku_class_1"
      ]
     },
     "execution_count": 18,
     "metadata": {},
     "output_type": "execute_result"
    }
   ],
   "source": [
    "item_data.head()"
   ]
  },
  {
   "cell_type": "code",
   "execution_count": 19,
   "id": "0ab98fd0",
   "metadata": {},
   "outputs": [
    {
     "data": {
      "text/html": [
       "<div>\n",
       "<style scoped>\n",
       "    .dataframe tbody tr th:only-of-type {\n",
       "        vertical-align: middle;\n",
       "    }\n",
       "\n",
       "    .dataframe tbody tr th {\n",
       "        vertical-align: top;\n",
       "    }\n",
       "\n",
       "    .dataframe thead th {\n",
       "        text-align: right;\n",
       "    }\n",
       "</style>\n",
       "<table border=\"1\" class=\"dataframe\">\n",
       "  <thead>\n",
       "    <tr style=\"text-align: right;\">\n",
       "      <th></th>\n",
       "      <th>outletCode</th>\n",
       "      <th>latitude</th>\n",
       "      <th>longitude</th>\n",
       "      <th>outletType</th>\n",
       "      <th>outletCategory</th>\n",
       "    </tr>\n",
       "  </thead>\n",
       "  <tbody>\n",
       "    <tr>\n",
       "      <th>0</th>\n",
       "      <td>customer_id_1535</td>\n",
       "      <td>30.162201</td>\n",
       "      <td>31.282801</td>\n",
       "      <td>type_6</td>\n",
       "      <td>category_1</td>\n",
       "    </tr>\n",
       "    <tr>\n",
       "      <th>1</th>\n",
       "      <td>customer_id_1640</td>\n",
       "      <td>30.082500</td>\n",
       "      <td>31.192900</td>\n",
       "      <td>type_8</td>\n",
       "      <td>category_1</td>\n",
       "    </tr>\n",
       "    <tr>\n",
       "      <th>2</th>\n",
       "      <td>customer_id_1631</td>\n",
       "      <td>30.117599</td>\n",
       "      <td>31.253700</td>\n",
       "      <td>type_5</td>\n",
       "      <td>category_1</td>\n",
       "    </tr>\n",
       "    <tr>\n",
       "      <th>3</th>\n",
       "      <td>customer_id_625</td>\n",
       "      <td>30.135500</td>\n",
       "      <td>31.384899</td>\n",
       "      <td>type_4</td>\n",
       "      <td>category_1</td>\n",
       "    </tr>\n",
       "    <tr>\n",
       "      <th>4</th>\n",
       "      <td>customer_id_1605</td>\n",
       "      <td>30.146700</td>\n",
       "      <td>31.145100</td>\n",
       "      <td>type_5</td>\n",
       "      <td>category_1</td>\n",
       "    </tr>\n",
       "  </tbody>\n",
       "</table>\n",
       "</div>"
      ],
      "text/plain": [
       "         outletCode   latitude  longitude outletType outletCategory\n",
       "0  customer_id_1535  30.162201  31.282801     type_6     category_1\n",
       "1  customer_id_1640  30.082500  31.192900     type_8     category_1\n",
       "2  customer_id_1631  30.117599  31.253700     type_5     category_1\n",
       "3   customer_id_625  30.135500  31.384899     type_4     category_1\n",
       "4  customer_id_1605  30.146700  31.145100     type_5     category_1"
      ]
     },
     "execution_count": 19,
     "metadata": {},
     "output_type": "execute_result"
    }
   ],
   "source": [
    "outlet_data.head()"
   ]
  },
  {
   "cell_type": "code",
   "execution_count": 20,
   "id": "62982ead",
   "metadata": {},
   "outputs": [
    {
     "data": {
      "text/plain": [
       "itemCode        object\n",
       "packet_size    float64\n",
       "brand           object\n",
       "category        object\n",
       "class           object\n",
       "dtype: object"
      ]
     },
     "execution_count": 20,
     "metadata": {},
     "output_type": "execute_result"
    }
   ],
   "source": [
    "# Checking datatypes\n",
    "item_data.dtypes"
   ]
  },
  {
   "cell_type": "code",
   "execution_count": 21,
   "id": "0d3285f6",
   "metadata": {},
   "outputs": [
    {
     "data": {
      "text/plain": [
       "outletCode         object\n",
       "latitude          float64\n",
       "longitude         float64\n",
       "outletType         object\n",
       "outletCategory     object\n",
       "dtype: object"
      ]
     },
     "execution_count": 21,
     "metadata": {},
     "output_type": "execute_result"
    }
   ],
   "source": [
    "outlet_data.dtypes"
   ]
  },
  {
   "cell_type": "markdown",
   "id": "c6e67be0",
   "metadata": {},
   "source": [
    "**No discrepancies**"
   ]
  },
  {
   "cell_type": "markdown",
   "id": "999e78c2",
   "metadata": {},
   "source": [
    "### Merging `item_data` and `outlet_data` with train and test data for better analysis..."
   ]
  },
  {
   "cell_type": "code",
   "execution_count": 22,
   "id": "cde9b4be",
   "metadata": {},
   "outputs": [
    {
     "data": {
      "text/html": [
       "<div>\n",
       "<style scoped>\n",
       "    .dataframe tbody tr th:only-of-type {\n",
       "        vertical-align: middle;\n",
       "    }\n",
       "\n",
       "    .dataframe tbody tr th {\n",
       "        vertical-align: top;\n",
       "    }\n",
       "\n",
       "    .dataframe thead th {\n",
       "        text-align: right;\n",
       "    }\n",
       "</style>\n",
       "<table border=\"1\" class=\"dataframe\">\n",
       "  <thead>\n",
       "    <tr style=\"text-align: right;\">\n",
       "      <th></th>\n",
       "      <th>outletCode</th>\n",
       "      <th>invoice_date</th>\n",
       "      <th>itemCode</th>\n",
       "      <th>sales_in_litres</th>\n",
       "      <th>packet_size</th>\n",
       "      <th>brand</th>\n",
       "      <th>category</th>\n",
       "      <th>class</th>\n",
       "    </tr>\n",
       "  </thead>\n",
       "  <tbody>\n",
       "    <tr>\n",
       "      <th>0</th>\n",
       "      <td>customer_id_2744</td>\n",
       "      <td>2019-01-01</td>\n",
       "      <td>sku_id_17</td>\n",
       "      <td>16.0</td>\n",
       "      <td>4.0</td>\n",
       "      <td>brand_6</td>\n",
       "      <td>sku_category_11</td>\n",
       "      <td>sku_class_1</td>\n",
       "    </tr>\n",
       "    <tr>\n",
       "      <th>1</th>\n",
       "      <td>customer_id_1266</td>\n",
       "      <td>2019-01-01</td>\n",
       "      <td>sku_id_14</td>\n",
       "      <td>24.0</td>\n",
       "      <td>4.0</td>\n",
       "      <td>brand_6</td>\n",
       "      <td>sku_category_10</td>\n",
       "      <td>sku_class_1</td>\n",
       "    </tr>\n",
       "    <tr>\n",
       "      <th>2</th>\n",
       "      <td>customer_id_766</td>\n",
       "      <td>2019-01-01</td>\n",
       "      <td>sku_id_15</td>\n",
       "      <td>5.0</td>\n",
       "      <td>1.0</td>\n",
       "      <td>brand_6</td>\n",
       "      <td>sku_category_11</td>\n",
       "      <td>sku_class_1</td>\n",
       "    </tr>\n",
       "    <tr>\n",
       "      <th>3</th>\n",
       "      <td>customer_id_1999</td>\n",
       "      <td>2019-01-01</td>\n",
       "      <td>sku_id_11</td>\n",
       "      <td>12.0</td>\n",
       "      <td>1.0</td>\n",
       "      <td>brand_6</td>\n",
       "      <td>sku_category_9</td>\n",
       "      <td>sku_class_1</td>\n",
       "    </tr>\n",
       "    <tr>\n",
       "      <th>4</th>\n",
       "      <td>customer_id_1048</td>\n",
       "      <td>2019-01-01</td>\n",
       "      <td>sku_id_60</td>\n",
       "      <td>12.0</td>\n",
       "      <td>1.0</td>\n",
       "      <td>brand_10</td>\n",
       "      <td>sku_category_21</td>\n",
       "      <td>sku_class_1</td>\n",
       "    </tr>\n",
       "  </tbody>\n",
       "</table>\n",
       "</div>"
      ],
      "text/plain": [
       "         outletCode invoice_date   itemCode  sales_in_litres  packet_size  \\\n",
       "0  customer_id_2744   2019-01-01  sku_id_17             16.0          4.0   \n",
       "1  customer_id_1266   2019-01-01  sku_id_14             24.0          4.0   \n",
       "2   customer_id_766   2019-01-01  sku_id_15              5.0          1.0   \n",
       "3  customer_id_1999   2019-01-01  sku_id_11             12.0          1.0   \n",
       "4  customer_id_1048   2019-01-01  sku_id_60             12.0          1.0   \n",
       "\n",
       "      brand         category        class  \n",
       "0   brand_6  sku_category_11  sku_class_1  \n",
       "1   brand_6  sku_category_10  sku_class_1  \n",
       "2   brand_6  sku_category_11  sku_class_1  \n",
       "3   brand_6   sku_category_9  sku_class_1  \n",
       "4  brand_10  sku_category_21  sku_class_1  "
      ]
     },
     "execution_count": 22,
     "metadata": {},
     "output_type": "execute_result"
    }
   ],
   "source": [
    "train_df_merged = train_df.merge(item_data, how=\"left\", on=\"itemCode\")\n",
    "train_df_merged.head()"
   ]
  },
  {
   "cell_type": "code",
   "execution_count": 23,
   "id": "c3642649",
   "metadata": {},
   "outputs": [
    {
     "data": {
      "text/html": [
       "<div>\n",
       "<style scoped>\n",
       "    .dataframe tbody tr th:only-of-type {\n",
       "        vertical-align: middle;\n",
       "    }\n",
       "\n",
       "    .dataframe tbody tr th {\n",
       "        vertical-align: top;\n",
       "    }\n",
       "\n",
       "    .dataframe thead th {\n",
       "        text-align: right;\n",
       "    }\n",
       "</style>\n",
       "<table border=\"1\" class=\"dataframe\">\n",
       "  <thead>\n",
       "    <tr style=\"text-align: right;\">\n",
       "      <th></th>\n",
       "      <th>outletCode</th>\n",
       "      <th>invoice_date</th>\n",
       "      <th>itemCode</th>\n",
       "      <th>sales_in_litres</th>\n",
       "      <th>packet_size</th>\n",
       "      <th>brand</th>\n",
       "      <th>category</th>\n",
       "      <th>class</th>\n",
       "      <th>latitude</th>\n",
       "      <th>longitude</th>\n",
       "      <th>outletType</th>\n",
       "      <th>outletCategory</th>\n",
       "    </tr>\n",
       "  </thead>\n",
       "  <tbody>\n",
       "    <tr>\n",
       "      <th>0</th>\n",
       "      <td>customer_id_2744</td>\n",
       "      <td>2019-01-01</td>\n",
       "      <td>sku_id_17</td>\n",
       "      <td>16.0</td>\n",
       "      <td>4.0</td>\n",
       "      <td>brand_6</td>\n",
       "      <td>sku_category_11</td>\n",
       "      <td>sku_class_1</td>\n",
       "      <td>30.148800</td>\n",
       "      <td>31.401400</td>\n",
       "      <td>type_4</td>\n",
       "      <td>category_2</td>\n",
       "    </tr>\n",
       "    <tr>\n",
       "      <th>1</th>\n",
       "      <td>customer_id_1266</td>\n",
       "      <td>2019-01-01</td>\n",
       "      <td>sku_id_14</td>\n",
       "      <td>24.0</td>\n",
       "      <td>4.0</td>\n",
       "      <td>brand_6</td>\n",
       "      <td>sku_category_10</td>\n",
       "      <td>sku_class_1</td>\n",
       "      <td>30.119699</td>\n",
       "      <td>31.297300</td>\n",
       "      <td>type_5</td>\n",
       "      <td>category_2</td>\n",
       "    </tr>\n",
       "    <tr>\n",
       "      <th>2</th>\n",
       "      <td>customer_id_766</td>\n",
       "      <td>2019-01-01</td>\n",
       "      <td>sku_id_15</td>\n",
       "      <td>5.0</td>\n",
       "      <td>1.0</td>\n",
       "      <td>brand_6</td>\n",
       "      <td>sku_category_11</td>\n",
       "      <td>sku_class_1</td>\n",
       "      <td>30.130199</td>\n",
       "      <td>31.357100</td>\n",
       "      <td>type_5</td>\n",
       "      <td>category_2</td>\n",
       "    </tr>\n",
       "    <tr>\n",
       "      <th>3</th>\n",
       "      <td>customer_id_1999</td>\n",
       "      <td>2019-01-01</td>\n",
       "      <td>sku_id_11</td>\n",
       "      <td>12.0</td>\n",
       "      <td>1.0</td>\n",
       "      <td>brand_6</td>\n",
       "      <td>sku_category_9</td>\n",
       "      <td>sku_class_1</td>\n",
       "      <td>29.764400</td>\n",
       "      <td>31.299000</td>\n",
       "      <td>type_5</td>\n",
       "      <td>category_2</td>\n",
       "    </tr>\n",
       "    <tr>\n",
       "      <th>4</th>\n",
       "      <td>customer_id_1048</td>\n",
       "      <td>2019-01-01</td>\n",
       "      <td>sku_id_60</td>\n",
       "      <td>12.0</td>\n",
       "      <td>1.0</td>\n",
       "      <td>brand_10</td>\n",
       "      <td>sku_category_21</td>\n",
       "      <td>sku_class_1</td>\n",
       "      <td>30.044100</td>\n",
       "      <td>31.366501</td>\n",
       "      <td>type_5</td>\n",
       "      <td>category_2</td>\n",
       "    </tr>\n",
       "  </tbody>\n",
       "</table>\n",
       "</div>"
      ],
      "text/plain": [
       "         outletCode invoice_date   itemCode  sales_in_litres  packet_size  \\\n",
       "0  customer_id_2744   2019-01-01  sku_id_17             16.0          4.0   \n",
       "1  customer_id_1266   2019-01-01  sku_id_14             24.0          4.0   \n",
       "2   customer_id_766   2019-01-01  sku_id_15              5.0          1.0   \n",
       "3  customer_id_1999   2019-01-01  sku_id_11             12.0          1.0   \n",
       "4  customer_id_1048   2019-01-01  sku_id_60             12.0          1.0   \n",
       "\n",
       "      brand         category        class   latitude  longitude outletType  \\\n",
       "0   brand_6  sku_category_11  sku_class_1  30.148800  31.401400     type_4   \n",
       "1   brand_6  sku_category_10  sku_class_1  30.119699  31.297300     type_5   \n",
       "2   brand_6  sku_category_11  sku_class_1  30.130199  31.357100     type_5   \n",
       "3   brand_6   sku_category_9  sku_class_1  29.764400  31.299000     type_5   \n",
       "4  brand_10  sku_category_21  sku_class_1  30.044100  31.366501     type_5   \n",
       "\n",
       "  outletCategory  \n",
       "0     category_2  \n",
       "1     category_2  \n",
       "2     category_2  \n",
       "3     category_2  \n",
       "4     category_2  "
      ]
     },
     "execution_count": 23,
     "metadata": {},
     "output_type": "execute_result"
    }
   ],
   "source": [
    "sales_df = train_df_merged.merge(outlet_data, how=\"left\", on=\"outletCode\")\n",
    "sales_df.head()"
   ]
  },
  {
   "cell_type": "code",
   "execution_count": 24,
   "id": "04f932ca",
   "metadata": {},
   "outputs": [
    {
     "data": {
      "text/html": [
       "<div>\n",
       "<style scoped>\n",
       "    .dataframe tbody tr th:only-of-type {\n",
       "        vertical-align: middle;\n",
       "    }\n",
       "\n",
       "    .dataframe tbody tr th {\n",
       "        vertical-align: top;\n",
       "    }\n",
       "\n",
       "    .dataframe thead th {\n",
       "        text-align: right;\n",
       "    }\n",
       "</style>\n",
       "<table border=\"1\" class=\"dataframe\">\n",
       "  <thead>\n",
       "    <tr style=\"text-align: right;\">\n",
       "      <th></th>\n",
       "      <th>outletCode</th>\n",
       "      <th>invoice_date</th>\n",
       "      <th>itemCode</th>\n",
       "      <th>actual_sales_in_litres</th>\n",
       "      <th>packet_size</th>\n",
       "      <th>brand</th>\n",
       "      <th>category</th>\n",
       "      <th>class</th>\n",
       "    </tr>\n",
       "  </thead>\n",
       "  <tbody>\n",
       "    <tr>\n",
       "      <th>0</th>\n",
       "      <td>customer_id_1552</td>\n",
       "      <td>2019-02-27</td>\n",
       "      <td>sku_id_44</td>\n",
       "      <td>30</td>\n",
       "      <td>5.0</td>\n",
       "      <td>brand_9</td>\n",
       "      <td>sku_category_16</td>\n",
       "      <td>sku_class_1</td>\n",
       "    </tr>\n",
       "    <tr>\n",
       "      <th>1</th>\n",
       "      <td>customer_id_1552</td>\n",
       "      <td>2019-02-27</td>\n",
       "      <td>sku_id_12</td>\n",
       "      <td>16</td>\n",
       "      <td>4.0</td>\n",
       "      <td>brand_6</td>\n",
       "      <td>sku_category_9</td>\n",
       "      <td>sku_class_1</td>\n",
       "    </tr>\n",
       "    <tr>\n",
       "      <th>2</th>\n",
       "      <td>customer_id_1552</td>\n",
       "      <td>2019-03-13</td>\n",
       "      <td>sku_id_44</td>\n",
       "      <td>45</td>\n",
       "      <td>5.0</td>\n",
       "      <td>brand_9</td>\n",
       "      <td>sku_category_16</td>\n",
       "      <td>sku_class_1</td>\n",
       "    </tr>\n",
       "    <tr>\n",
       "      <th>3</th>\n",
       "      <td>customer_id_359</td>\n",
       "      <td>2019-03-23</td>\n",
       "      <td>sku_id_19</td>\n",
       "      <td>16</td>\n",
       "      <td>4.0</td>\n",
       "      <td>brand_6</td>\n",
       "      <td>sku_category_12</td>\n",
       "      <td>sku_class_2</td>\n",
       "    </tr>\n",
       "    <tr>\n",
       "      <th>4</th>\n",
       "      <td>customer_id_1080</td>\n",
       "      <td>2019-04-01</td>\n",
       "      <td>sku_id_66</td>\n",
       "      <td>3</td>\n",
       "      <td>1.0</td>\n",
       "      <td>brand_10</td>\n",
       "      <td>sku_category_22</td>\n",
       "      <td>sku_class_1</td>\n",
       "    </tr>\n",
       "  </tbody>\n",
       "</table>\n",
       "</div>"
      ],
      "text/plain": [
       "         outletCode invoice_date   itemCode  actual_sales_in_litres  \\\n",
       "0  customer_id_1552   2019-02-27  sku_id_44                      30   \n",
       "1  customer_id_1552   2019-02-27  sku_id_12                      16   \n",
       "2  customer_id_1552   2019-03-13  sku_id_44                      45   \n",
       "3   customer_id_359   2019-03-23  sku_id_19                      16   \n",
       "4  customer_id_1080   2019-04-01  sku_id_66                       3   \n",
       "\n",
       "   packet_size     brand         category        class  \n",
       "0          5.0   brand_9  sku_category_16  sku_class_1  \n",
       "1          4.0   brand_6   sku_category_9  sku_class_1  \n",
       "2          5.0   brand_9  sku_category_16  sku_class_1  \n",
       "3          4.0   brand_6  sku_category_12  sku_class_2  \n",
       "4          1.0  brand_10  sku_category_22  sku_class_1  "
      ]
     },
     "execution_count": 24,
     "metadata": {},
     "output_type": "execute_result"
    }
   ],
   "source": [
    "test_df_actual_merged = test_df_actual.merge(item_data, how=\"left\", on=\"itemCode\")\n",
    "test_df_actual_merged.head()"
   ]
  },
  {
   "cell_type": "code",
   "execution_count": 25,
   "id": "715bdf1f",
   "metadata": {},
   "outputs": [
    {
     "data": {
      "text/html": [
       "<div>\n",
       "<style scoped>\n",
       "    .dataframe tbody tr th:only-of-type {\n",
       "        vertical-align: middle;\n",
       "    }\n",
       "\n",
       "    .dataframe tbody tr th {\n",
       "        vertical-align: top;\n",
       "    }\n",
       "\n",
       "    .dataframe thead th {\n",
       "        text-align: right;\n",
       "    }\n",
       "</style>\n",
       "<table border=\"1\" class=\"dataframe\">\n",
       "  <thead>\n",
       "    <tr style=\"text-align: right;\">\n",
       "      <th></th>\n",
       "      <th>outletCode</th>\n",
       "      <th>invoice_date</th>\n",
       "      <th>itemCode</th>\n",
       "      <th>actual_sales_in_litres</th>\n",
       "      <th>packet_size</th>\n",
       "      <th>brand</th>\n",
       "      <th>category</th>\n",
       "      <th>class</th>\n",
       "      <th>latitude</th>\n",
       "      <th>longitude</th>\n",
       "      <th>outletType</th>\n",
       "      <th>outletCategory</th>\n",
       "    </tr>\n",
       "  </thead>\n",
       "  <tbody>\n",
       "    <tr>\n",
       "      <th>0</th>\n",
       "      <td>customer_id_1552</td>\n",
       "      <td>2019-02-27</td>\n",
       "      <td>sku_id_44</td>\n",
       "      <td>30</td>\n",
       "      <td>5.0</td>\n",
       "      <td>brand_9</td>\n",
       "      <td>sku_category_16</td>\n",
       "      <td>sku_class_1</td>\n",
       "      <td>29.854200</td>\n",
       "      <td>31.229799</td>\n",
       "      <td>type_5</td>\n",
       "      <td>category_2</td>\n",
       "    </tr>\n",
       "    <tr>\n",
       "      <th>1</th>\n",
       "      <td>customer_id_1552</td>\n",
       "      <td>2019-02-27</td>\n",
       "      <td>sku_id_12</td>\n",
       "      <td>16</td>\n",
       "      <td>4.0</td>\n",
       "      <td>brand_6</td>\n",
       "      <td>sku_category_9</td>\n",
       "      <td>sku_class_1</td>\n",
       "      <td>29.854200</td>\n",
       "      <td>31.229799</td>\n",
       "      <td>type_5</td>\n",
       "      <td>category_2</td>\n",
       "    </tr>\n",
       "    <tr>\n",
       "      <th>2</th>\n",
       "      <td>customer_id_1552</td>\n",
       "      <td>2019-03-13</td>\n",
       "      <td>sku_id_44</td>\n",
       "      <td>45</td>\n",
       "      <td>5.0</td>\n",
       "      <td>brand_9</td>\n",
       "      <td>sku_category_16</td>\n",
       "      <td>sku_class_1</td>\n",
       "      <td>29.854200</td>\n",
       "      <td>31.229799</td>\n",
       "      <td>type_5</td>\n",
       "      <td>category_2</td>\n",
       "    </tr>\n",
       "    <tr>\n",
       "      <th>3</th>\n",
       "      <td>customer_id_359</td>\n",
       "      <td>2019-03-23</td>\n",
       "      <td>sku_id_19</td>\n",
       "      <td>16</td>\n",
       "      <td>4.0</td>\n",
       "      <td>brand_6</td>\n",
       "      <td>sku_category_12</td>\n",
       "      <td>sku_class_2</td>\n",
       "      <td>29.912001</td>\n",
       "      <td>30.903799</td>\n",
       "      <td>type_3</td>\n",
       "      <td>category_2</td>\n",
       "    </tr>\n",
       "    <tr>\n",
       "      <th>4</th>\n",
       "      <td>customer_id_1080</td>\n",
       "      <td>2019-04-01</td>\n",
       "      <td>sku_id_66</td>\n",
       "      <td>3</td>\n",
       "      <td>1.0</td>\n",
       "      <td>brand_10</td>\n",
       "      <td>sku_category_22</td>\n",
       "      <td>sku_class_1</td>\n",
       "      <td>29.987499</td>\n",
       "      <td>31.285400</td>\n",
       "      <td>type_6</td>\n",
       "      <td>category_2</td>\n",
       "    </tr>\n",
       "  </tbody>\n",
       "</table>\n",
       "</div>"
      ],
      "text/plain": [
       "         outletCode invoice_date   itemCode  actual_sales_in_litres  \\\n",
       "0  customer_id_1552   2019-02-27  sku_id_44                      30   \n",
       "1  customer_id_1552   2019-02-27  sku_id_12                      16   \n",
       "2  customer_id_1552   2019-03-13  sku_id_44                      45   \n",
       "3   customer_id_359   2019-03-23  sku_id_19                      16   \n",
       "4  customer_id_1080   2019-04-01  sku_id_66                       3   \n",
       "\n",
       "   packet_size     brand         category        class   latitude  longitude  \\\n",
       "0          5.0   brand_9  sku_category_16  sku_class_1  29.854200  31.229799   \n",
       "1          4.0   brand_6   sku_category_9  sku_class_1  29.854200  31.229799   \n",
       "2          5.0   brand_9  sku_category_16  sku_class_1  29.854200  31.229799   \n",
       "3          4.0   brand_6  sku_category_12  sku_class_2  29.912001  30.903799   \n",
       "4          1.0  brand_10  sku_category_22  sku_class_1  29.987499  31.285400   \n",
       "\n",
       "  outletType outletCategory  \n",
       "0     type_5     category_2  \n",
       "1     type_5     category_2  \n",
       "2     type_5     category_2  \n",
       "3     type_3     category_2  \n",
       "4     type_6     category_2  "
      ]
     },
     "execution_count": 25,
     "metadata": {},
     "output_type": "execute_result"
    }
   ],
   "source": [
    "test_data = test_df_actual_merged.merge(outlet_data, how=\"left\", on=\"outletCode\")\n",
    "test_data.head()"
   ]
  },
  {
   "cell_type": "code",
   "execution_count": null,
   "id": "685ecc13",
   "metadata": {},
   "outputs": [],
   "source": []
  },
  {
   "cell_type": "code",
   "execution_count": 26,
   "id": "106b8986",
   "metadata": {},
   "outputs": [
    {
     "data": {
      "text/plain": [
       "((283545, 12), (283545, 4))"
      ]
     },
     "execution_count": 26,
     "metadata": {},
     "output_type": "execute_result"
    }
   ],
   "source": [
    "# Comparing merged data and original data\n",
    "sales_df.shape, train_df.shape"
   ]
  },
  {
   "cell_type": "code",
   "execution_count": 27,
   "id": "1b494724",
   "metadata": {},
   "outputs": [
    {
     "data": {
      "text/plain": [
       "((11013, 12), (11013, 4))"
      ]
     },
     "execution_count": 27,
     "metadata": {},
     "output_type": "execute_result"
    }
   ],
   "source": [
    "test_data.shape, test_df_actual.shape"
   ]
  },
  {
   "cell_type": "code",
   "execution_count": 28,
   "id": "2d9bd425",
   "metadata": {},
   "outputs": [
    {
     "data": {
      "text/plain": [
       "outletCode         0\n",
       "invoice_date       0\n",
       "itemCode           0\n",
       "sales_in_litres    0\n",
       "packet_size        0\n",
       "brand              0\n",
       "category           0\n",
       "class              0\n",
       "latitude           0\n",
       "longitude          0\n",
       "outletType         0\n",
       "outletCategory     0\n",
       "dtype: int64"
      ]
     },
     "execution_count": 28,
     "metadata": {},
     "output_type": "execute_result"
    }
   ],
   "source": [
    "# Checking if there are any missing values in merged datasets\n",
    "sales_df.isna().sum()"
   ]
  },
  {
   "cell_type": "code",
   "execution_count": 29,
   "id": "7d1893b1",
   "metadata": {},
   "outputs": [
    {
     "data": {
      "text/plain": [
       "outletCode                0\n",
       "invoice_date              0\n",
       "itemCode                  0\n",
       "actual_sales_in_litres    0\n",
       "packet_size               0\n",
       "brand                     0\n",
       "category                  0\n",
       "class                     0\n",
       "latitude                  0\n",
       "longitude                 0\n",
       "outletType                0\n",
       "outletCategory            0\n",
       "dtype: int64"
      ]
     },
     "execution_count": 29,
     "metadata": {},
     "output_type": "execute_result"
    }
   ],
   "source": [
    "test_data.isna().sum()"
   ]
  },
  {
   "cell_type": "markdown",
   "id": "d78ab5f7",
   "metadata": {},
   "source": [
    "**Looking Good...**"
   ]
  },
  {
   "cell_type": "markdown",
   "id": "ae5b40d2",
   "metadata": {},
   "source": []
  },
  {
   "cell_type": "markdown",
   "id": "72228a2c",
   "metadata": {},
   "source": [
    "### Doing analysis on `sales_df`"
   ]
  },
  {
   "cell_type": "code",
   "execution_count": 30,
   "id": "71624a22",
   "metadata": {},
   "outputs": [
    {
     "data": {
      "text/html": [
       "<div>\n",
       "<style scoped>\n",
       "    .dataframe tbody tr th:only-of-type {\n",
       "        vertical-align: middle;\n",
       "    }\n",
       "\n",
       "    .dataframe tbody tr th {\n",
       "        vertical-align: top;\n",
       "    }\n",
       "\n",
       "    .dataframe thead th {\n",
       "        text-align: right;\n",
       "    }\n",
       "</style>\n",
       "<table border=\"1\" class=\"dataframe\">\n",
       "  <thead>\n",
       "    <tr style=\"text-align: right;\">\n",
       "      <th></th>\n",
       "      <th>outletCode</th>\n",
       "      <th>invoice_date</th>\n",
       "      <th>itemCode</th>\n",
       "      <th>sales_in_litres</th>\n",
       "      <th>packet_size</th>\n",
       "      <th>brand</th>\n",
       "      <th>category</th>\n",
       "      <th>class</th>\n",
       "      <th>latitude</th>\n",
       "      <th>longitude</th>\n",
       "      <th>outletType</th>\n",
       "      <th>outletCategory</th>\n",
       "    </tr>\n",
       "  </thead>\n",
       "  <tbody>\n",
       "    <tr>\n",
       "      <th>0</th>\n",
       "      <td>customer_id_2744</td>\n",
       "      <td>2019-01-01</td>\n",
       "      <td>sku_id_17</td>\n",
       "      <td>16.0</td>\n",
       "      <td>4.0</td>\n",
       "      <td>brand_6</td>\n",
       "      <td>sku_category_11</td>\n",
       "      <td>sku_class_1</td>\n",
       "      <td>30.148800</td>\n",
       "      <td>31.401400</td>\n",
       "      <td>type_4</td>\n",
       "      <td>category_2</td>\n",
       "    </tr>\n",
       "    <tr>\n",
       "      <th>1</th>\n",
       "      <td>customer_id_1266</td>\n",
       "      <td>2019-01-01</td>\n",
       "      <td>sku_id_14</td>\n",
       "      <td>24.0</td>\n",
       "      <td>4.0</td>\n",
       "      <td>brand_6</td>\n",
       "      <td>sku_category_10</td>\n",
       "      <td>sku_class_1</td>\n",
       "      <td>30.119699</td>\n",
       "      <td>31.297300</td>\n",
       "      <td>type_5</td>\n",
       "      <td>category_2</td>\n",
       "    </tr>\n",
       "    <tr>\n",
       "      <th>2</th>\n",
       "      <td>customer_id_766</td>\n",
       "      <td>2019-01-01</td>\n",
       "      <td>sku_id_15</td>\n",
       "      <td>5.0</td>\n",
       "      <td>1.0</td>\n",
       "      <td>brand_6</td>\n",
       "      <td>sku_category_11</td>\n",
       "      <td>sku_class_1</td>\n",
       "      <td>30.130199</td>\n",
       "      <td>31.357100</td>\n",
       "      <td>type_5</td>\n",
       "      <td>category_2</td>\n",
       "    </tr>\n",
       "    <tr>\n",
       "      <th>3</th>\n",
       "      <td>customer_id_1999</td>\n",
       "      <td>2019-01-01</td>\n",
       "      <td>sku_id_11</td>\n",
       "      <td>12.0</td>\n",
       "      <td>1.0</td>\n",
       "      <td>brand_6</td>\n",
       "      <td>sku_category_9</td>\n",
       "      <td>sku_class_1</td>\n",
       "      <td>29.764400</td>\n",
       "      <td>31.299000</td>\n",
       "      <td>type_5</td>\n",
       "      <td>category_2</td>\n",
       "    </tr>\n",
       "    <tr>\n",
       "      <th>4</th>\n",
       "      <td>customer_id_1048</td>\n",
       "      <td>2019-01-01</td>\n",
       "      <td>sku_id_60</td>\n",
       "      <td>12.0</td>\n",
       "      <td>1.0</td>\n",
       "      <td>brand_10</td>\n",
       "      <td>sku_category_21</td>\n",
       "      <td>sku_class_1</td>\n",
       "      <td>30.044100</td>\n",
       "      <td>31.366501</td>\n",
       "      <td>type_5</td>\n",
       "      <td>category_2</td>\n",
       "    </tr>\n",
       "  </tbody>\n",
       "</table>\n",
       "</div>"
      ],
      "text/plain": [
       "         outletCode invoice_date   itemCode  sales_in_litres  packet_size  \\\n",
       "0  customer_id_2744   2019-01-01  sku_id_17             16.0          4.0   \n",
       "1  customer_id_1266   2019-01-01  sku_id_14             24.0          4.0   \n",
       "2   customer_id_766   2019-01-01  sku_id_15              5.0          1.0   \n",
       "3  customer_id_1999   2019-01-01  sku_id_11             12.0          1.0   \n",
       "4  customer_id_1048   2019-01-01  sku_id_60             12.0          1.0   \n",
       "\n",
       "      brand         category        class   latitude  longitude outletType  \\\n",
       "0   brand_6  sku_category_11  sku_class_1  30.148800  31.401400     type_4   \n",
       "1   brand_6  sku_category_10  sku_class_1  30.119699  31.297300     type_5   \n",
       "2   brand_6  sku_category_11  sku_class_1  30.130199  31.357100     type_5   \n",
       "3   brand_6   sku_category_9  sku_class_1  29.764400  31.299000     type_5   \n",
       "4  brand_10  sku_category_21  sku_class_1  30.044100  31.366501     type_5   \n",
       "\n",
       "  outletCategory  \n",
       "0     category_2  \n",
       "1     category_2  \n",
       "2     category_2  \n",
       "3     category_2  \n",
       "4     category_2  "
      ]
     },
     "execution_count": 30,
     "metadata": {},
     "output_type": "execute_result"
    }
   ],
   "source": [
    "sales_df.head()"
   ]
  },
  {
   "cell_type": "code",
   "execution_count": 31,
   "id": "48ff9b1e",
   "metadata": {},
   "outputs": [
    {
     "name": "stdout",
     "output_type": "stream",
     "text": [
      "<class 'pandas.core.frame.DataFrame'>\n",
      "Int64Index: 283545 entries, 0 to 283544\n",
      "Data columns (total 12 columns):\n",
      " #   Column           Non-Null Count   Dtype         \n",
      "---  ------           --------------   -----         \n",
      " 0   outletCode       283545 non-null  object        \n",
      " 1   invoice_date     283545 non-null  datetime64[ns]\n",
      " 2   itemCode         283545 non-null  object        \n",
      " 3   sales_in_litres  283545 non-null  float64       \n",
      " 4   packet_size      283545 non-null  float64       \n",
      " 5   brand            283545 non-null  object        \n",
      " 6   category         283545 non-null  object        \n",
      " 7   class            283545 non-null  object        \n",
      " 8   latitude         283545 non-null  float64       \n",
      " 9   longitude        283545 non-null  float64       \n",
      " 10  outletType       283545 non-null  object        \n",
      " 11  outletCategory   283545 non-null  object        \n",
      "dtypes: datetime64[ns](1), float64(4), object(7)\n",
      "memory usage: 28.1+ MB\n"
     ]
    }
   ],
   "source": [
    "sales_df.info()"
   ]
  },
  {
   "cell_type": "code",
   "execution_count": 32,
   "id": "3f53835d",
   "metadata": {},
   "outputs": [
    {
     "data": {
      "text/html": [
       "<div>\n",
       "<style scoped>\n",
       "    .dataframe tbody tr th:only-of-type {\n",
       "        vertical-align: middle;\n",
       "    }\n",
       "\n",
       "    .dataframe tbody tr th {\n",
       "        vertical-align: top;\n",
       "    }\n",
       "\n",
       "    .dataframe thead th {\n",
       "        text-align: right;\n",
       "    }\n",
       "</style>\n",
       "<table border=\"1\" class=\"dataframe\">\n",
       "  <thead>\n",
       "    <tr style=\"text-align: right;\">\n",
       "      <th></th>\n",
       "      <th>sales_in_litres</th>\n",
       "      <th>packet_size</th>\n",
       "      <th>latitude</th>\n",
       "      <th>longitude</th>\n",
       "    </tr>\n",
       "  </thead>\n",
       "  <tbody>\n",
       "    <tr>\n",
       "      <th>count</th>\n",
       "      <td>283545.000000</td>\n",
       "      <td>283545.000000</td>\n",
       "      <td>283545.000000</td>\n",
       "      <td>283545.000000</td>\n",
       "    </tr>\n",
       "    <tr>\n",
       "      <th>mean</th>\n",
       "      <td>47.242924</td>\n",
       "      <td>5.541881</td>\n",
       "      <td>30.067159</td>\n",
       "      <td>31.261160</td>\n",
       "    </tr>\n",
       "    <tr>\n",
       "      <th>std</th>\n",
       "      <td>137.238051</td>\n",
       "      <td>6.654176</td>\n",
       "      <td>0.255765</td>\n",
       "      <td>0.210336</td>\n",
       "    </tr>\n",
       "    <tr>\n",
       "      <th>min</th>\n",
       "      <td>0.250000</td>\n",
       "      <td>0.250000</td>\n",
       "      <td>0.000000</td>\n",
       "      <td>0.000000</td>\n",
       "    </tr>\n",
       "    <tr>\n",
       "      <th>25%</th>\n",
       "      <td>12.000000</td>\n",
       "      <td>1.000000</td>\n",
       "      <td>30.011999</td>\n",
       "      <td>31.204700</td>\n",
       "    </tr>\n",
       "    <tr>\n",
       "      <th>50%</th>\n",
       "      <td>16.000000</td>\n",
       "      <td>4.000000</td>\n",
       "      <td>30.070801</td>\n",
       "      <td>31.270500</td>\n",
       "    </tr>\n",
       "    <tr>\n",
       "      <th>75%</th>\n",
       "      <td>36.000000</td>\n",
       "      <td>5.000000</td>\n",
       "      <td>30.136600</td>\n",
       "      <td>31.331400</td>\n",
       "    </tr>\n",
       "    <tr>\n",
       "      <th>max</th>\n",
       "      <td>8000.000000</td>\n",
       "      <td>209.000000</td>\n",
       "      <td>30.574600</td>\n",
       "      <td>31.738501</td>\n",
       "    </tr>\n",
       "  </tbody>\n",
       "</table>\n",
       "</div>"
      ],
      "text/plain": [
       "       sales_in_litres    packet_size       latitude      longitude\n",
       "count    283545.000000  283545.000000  283545.000000  283545.000000\n",
       "mean         47.242924       5.541881      30.067159      31.261160\n",
       "std         137.238051       6.654176       0.255765       0.210336\n",
       "min           0.250000       0.250000       0.000000       0.000000\n",
       "25%          12.000000       1.000000      30.011999      31.204700\n",
       "50%          16.000000       4.000000      30.070801      31.270500\n",
       "75%          36.000000       5.000000      30.136600      31.331400\n",
       "max        8000.000000     209.000000      30.574600      31.738501"
      ]
     },
     "execution_count": 32,
     "metadata": {},
     "output_type": "execute_result"
    }
   ],
   "source": [
    "sales_df.describe()"
   ]
  },
  {
   "cell_type": "code",
   "execution_count": 33,
   "id": "8bf4a4e4",
   "metadata": {},
   "outputs": [
    {
     "data": {
      "text/plain": [
       "16.0"
      ]
     },
     "execution_count": 33,
     "metadata": {},
     "output_type": "execute_result"
    }
   ],
   "source": [
    "sales_df[\"sales_in_litres\"].median()"
   ]
  },
  {
   "cell_type": "markdown",
   "id": "de392410",
   "metadata": {},
   "source": [
    "From the above table we can conclude that:\n",
    "\n",
    "    1. Minimum sales (in litres): 0.25\n",
    "    2. Maximum sales (in litres): 8000\n",
    "    3. Mean of sales (in litres): 47.243\n",
    "    4. Median of sales (in litres): 16.0\n",
    "    5. Standard Deviation : 173.24"
   ]
  },
  {
   "cell_type": "code",
   "execution_count": 34,
   "id": "108f4c3a",
   "metadata": {},
   "outputs": [
    {
     "data": {
      "text/html": [
       "<div>\n",
       "<style scoped>\n",
       "    .dataframe tbody tr th:only-of-type {\n",
       "        vertical-align: middle;\n",
       "    }\n",
       "\n",
       "    .dataframe tbody tr th {\n",
       "        vertical-align: top;\n",
       "    }\n",
       "\n",
       "    .dataframe thead th {\n",
       "        text-align: right;\n",
       "    }\n",
       "</style>\n",
       "<table border=\"1\" class=\"dataframe\">\n",
       "  <thead>\n",
       "    <tr style=\"text-align: right;\">\n",
       "      <th></th>\n",
       "      <th>outletCode</th>\n",
       "      <th>invoice_date</th>\n",
       "      <th>itemCode</th>\n",
       "      <th>sales_in_litres</th>\n",
       "      <th>packet_size</th>\n",
       "      <th>brand</th>\n",
       "      <th>category</th>\n",
       "      <th>class</th>\n",
       "      <th>latitude</th>\n",
       "      <th>longitude</th>\n",
       "      <th>outletType</th>\n",
       "      <th>outletCategory</th>\n",
       "    </tr>\n",
       "  </thead>\n",
       "  <tbody>\n",
       "    <tr>\n",
       "      <th>count</th>\n",
       "      <td>283545</td>\n",
       "      <td>283545</td>\n",
       "      <td>283545</td>\n",
       "      <td>283545.000000</td>\n",
       "      <td>283545.000000</td>\n",
       "      <td>283545</td>\n",
       "      <td>283545</td>\n",
       "      <td>283545</td>\n",
       "      <td>283545.000000</td>\n",
       "      <td>283545.000000</td>\n",
       "      <td>283545</td>\n",
       "      <td>283545</td>\n",
       "    </tr>\n",
       "    <tr>\n",
       "      <th>unique</th>\n",
       "      <td>2780</td>\n",
       "      <td>630</td>\n",
       "      <td>71</td>\n",
       "      <td>NaN</td>\n",
       "      <td>NaN</td>\n",
       "      <td>11</td>\n",
       "      <td>26</td>\n",
       "      <td>2</td>\n",
       "      <td>NaN</td>\n",
       "      <td>NaN</td>\n",
       "      <td>8</td>\n",
       "      <td>2</td>\n",
       "    </tr>\n",
       "    <tr>\n",
       "      <th>top</th>\n",
       "      <td>customer_id_2721</td>\n",
       "      <td>2020-08-10 00:00:00</td>\n",
       "      <td>sku_id_14</td>\n",
       "      <td>NaN</td>\n",
       "      <td>NaN</td>\n",
       "      <td>brand_6</td>\n",
       "      <td>sku_category_11</td>\n",
       "      <td>sku_class_1</td>\n",
       "      <td>NaN</td>\n",
       "      <td>NaN</td>\n",
       "      <td>type_5</td>\n",
       "      <td>category_2</td>\n",
       "    </tr>\n",
       "    <tr>\n",
       "      <th>freq</th>\n",
       "      <td>2435</td>\n",
       "      <td>861</td>\n",
       "      <td>41118</td>\n",
       "      <td>NaN</td>\n",
       "      <td>NaN</td>\n",
       "      <td>190836</td>\n",
       "      <td>61756</td>\n",
       "      <td>247326</td>\n",
       "      <td>NaN</td>\n",
       "      <td>NaN</td>\n",
       "      <td>165688</td>\n",
       "      <td>227796</td>\n",
       "    </tr>\n",
       "    <tr>\n",
       "      <th>first</th>\n",
       "      <td>NaN</td>\n",
       "      <td>2019-01-01 00:00:00</td>\n",
       "      <td>NaN</td>\n",
       "      <td>NaN</td>\n",
       "      <td>NaN</td>\n",
       "      <td>NaN</td>\n",
       "      <td>NaN</td>\n",
       "      <td>NaN</td>\n",
       "      <td>NaN</td>\n",
       "      <td>NaN</td>\n",
       "      <td>NaN</td>\n",
       "      <td>NaN</td>\n",
       "    </tr>\n",
       "    <tr>\n",
       "      <th>last</th>\n",
       "      <td>NaN</td>\n",
       "      <td>2020-10-28 00:00:00</td>\n",
       "      <td>NaN</td>\n",
       "      <td>NaN</td>\n",
       "      <td>NaN</td>\n",
       "      <td>NaN</td>\n",
       "      <td>NaN</td>\n",
       "      <td>NaN</td>\n",
       "      <td>NaN</td>\n",
       "      <td>NaN</td>\n",
       "      <td>NaN</td>\n",
       "      <td>NaN</td>\n",
       "    </tr>\n",
       "    <tr>\n",
       "      <th>mean</th>\n",
       "      <td>NaN</td>\n",
       "      <td>NaN</td>\n",
       "      <td>NaN</td>\n",
       "      <td>47.242924</td>\n",
       "      <td>5.541881</td>\n",
       "      <td>NaN</td>\n",
       "      <td>NaN</td>\n",
       "      <td>NaN</td>\n",
       "      <td>30.067159</td>\n",
       "      <td>31.261160</td>\n",
       "      <td>NaN</td>\n",
       "      <td>NaN</td>\n",
       "    </tr>\n",
       "    <tr>\n",
       "      <th>std</th>\n",
       "      <td>NaN</td>\n",
       "      <td>NaN</td>\n",
       "      <td>NaN</td>\n",
       "      <td>137.238051</td>\n",
       "      <td>6.654176</td>\n",
       "      <td>NaN</td>\n",
       "      <td>NaN</td>\n",
       "      <td>NaN</td>\n",
       "      <td>0.255765</td>\n",
       "      <td>0.210336</td>\n",
       "      <td>NaN</td>\n",
       "      <td>NaN</td>\n",
       "    </tr>\n",
       "    <tr>\n",
       "      <th>min</th>\n",
       "      <td>NaN</td>\n",
       "      <td>NaN</td>\n",
       "      <td>NaN</td>\n",
       "      <td>0.250000</td>\n",
       "      <td>0.250000</td>\n",
       "      <td>NaN</td>\n",
       "      <td>NaN</td>\n",
       "      <td>NaN</td>\n",
       "      <td>0.000000</td>\n",
       "      <td>0.000000</td>\n",
       "      <td>NaN</td>\n",
       "      <td>NaN</td>\n",
       "    </tr>\n",
       "    <tr>\n",
       "      <th>25%</th>\n",
       "      <td>NaN</td>\n",
       "      <td>NaN</td>\n",
       "      <td>NaN</td>\n",
       "      <td>12.000000</td>\n",
       "      <td>1.000000</td>\n",
       "      <td>NaN</td>\n",
       "      <td>NaN</td>\n",
       "      <td>NaN</td>\n",
       "      <td>30.011999</td>\n",
       "      <td>31.204700</td>\n",
       "      <td>NaN</td>\n",
       "      <td>NaN</td>\n",
       "    </tr>\n",
       "    <tr>\n",
       "      <th>50%</th>\n",
       "      <td>NaN</td>\n",
       "      <td>NaN</td>\n",
       "      <td>NaN</td>\n",
       "      <td>16.000000</td>\n",
       "      <td>4.000000</td>\n",
       "      <td>NaN</td>\n",
       "      <td>NaN</td>\n",
       "      <td>NaN</td>\n",
       "      <td>30.070801</td>\n",
       "      <td>31.270500</td>\n",
       "      <td>NaN</td>\n",
       "      <td>NaN</td>\n",
       "    </tr>\n",
       "    <tr>\n",
       "      <th>75%</th>\n",
       "      <td>NaN</td>\n",
       "      <td>NaN</td>\n",
       "      <td>NaN</td>\n",
       "      <td>36.000000</td>\n",
       "      <td>5.000000</td>\n",
       "      <td>NaN</td>\n",
       "      <td>NaN</td>\n",
       "      <td>NaN</td>\n",
       "      <td>30.136600</td>\n",
       "      <td>31.331400</td>\n",
       "      <td>NaN</td>\n",
       "      <td>NaN</td>\n",
       "    </tr>\n",
       "    <tr>\n",
       "      <th>max</th>\n",
       "      <td>NaN</td>\n",
       "      <td>NaN</td>\n",
       "      <td>NaN</td>\n",
       "      <td>8000.000000</td>\n",
       "      <td>209.000000</td>\n",
       "      <td>NaN</td>\n",
       "      <td>NaN</td>\n",
       "      <td>NaN</td>\n",
       "      <td>30.574600</td>\n",
       "      <td>31.738501</td>\n",
       "      <td>NaN</td>\n",
       "      <td>NaN</td>\n",
       "    </tr>\n",
       "  </tbody>\n",
       "</table>\n",
       "</div>"
      ],
      "text/plain": [
       "              outletCode         invoice_date   itemCode  sales_in_litres  \\\n",
       "count             283545               283545     283545    283545.000000   \n",
       "unique              2780                  630         71              NaN   \n",
       "top     customer_id_2721  2020-08-10 00:00:00  sku_id_14              NaN   \n",
       "freq                2435                  861      41118              NaN   \n",
       "first                NaN  2019-01-01 00:00:00        NaN              NaN   \n",
       "last                 NaN  2020-10-28 00:00:00        NaN              NaN   \n",
       "mean                 NaN                  NaN        NaN        47.242924   \n",
       "std                  NaN                  NaN        NaN       137.238051   \n",
       "min                  NaN                  NaN        NaN         0.250000   \n",
       "25%                  NaN                  NaN        NaN        12.000000   \n",
       "50%                  NaN                  NaN        NaN        16.000000   \n",
       "75%                  NaN                  NaN        NaN        36.000000   \n",
       "max                  NaN                  NaN        NaN      8000.000000   \n",
       "\n",
       "          packet_size    brand         category        class       latitude  \\\n",
       "count   283545.000000   283545           283545       283545  283545.000000   \n",
       "unique            NaN       11               26            2            NaN   \n",
       "top               NaN  brand_6  sku_category_11  sku_class_1            NaN   \n",
       "freq              NaN   190836            61756       247326            NaN   \n",
       "first             NaN      NaN              NaN          NaN            NaN   \n",
       "last              NaN      NaN              NaN          NaN            NaN   \n",
       "mean         5.541881      NaN              NaN          NaN      30.067159   \n",
       "std          6.654176      NaN              NaN          NaN       0.255765   \n",
       "min          0.250000      NaN              NaN          NaN       0.000000   \n",
       "25%          1.000000      NaN              NaN          NaN      30.011999   \n",
       "50%          4.000000      NaN              NaN          NaN      30.070801   \n",
       "75%          5.000000      NaN              NaN          NaN      30.136600   \n",
       "max        209.000000      NaN              NaN          NaN      30.574600   \n",
       "\n",
       "            longitude outletType outletCategory  \n",
       "count   283545.000000     283545         283545  \n",
       "unique            NaN          8              2  \n",
       "top               NaN     type_5     category_2  \n",
       "freq              NaN     165688         227796  \n",
       "first             NaN        NaN            NaN  \n",
       "last              NaN        NaN            NaN  \n",
       "mean        31.261160        NaN            NaN  \n",
       "std          0.210336        NaN            NaN  \n",
       "min          0.000000        NaN            NaN  \n",
       "25%         31.204700        NaN            NaN  \n",
       "50%         31.270500        NaN            NaN  \n",
       "75%         31.331400        NaN            NaN  \n",
       "max         31.738501        NaN            NaN  "
      ]
     },
     "execution_count": 34,
     "metadata": {},
     "output_type": "execute_result"
    }
   ],
   "source": [
    "sales_df.describe(include=\"all\")"
   ]
  },
  {
   "cell_type": "code",
   "execution_count": null,
   "id": "985f53da",
   "metadata": {},
   "outputs": [],
   "source": []
  },
  {
   "cell_type": "code",
   "execution_count": 35,
   "id": "cff20443",
   "metadata": {},
   "outputs": [
    {
     "data": {
      "image/png": "[encoded data removed]",
      "text/plain": [
       "<Figure size 1440x576 with 1 Axes>"
      ]
     },
     "metadata": {
      "needs_background": "light"
     },
     "output_type": "display_data"
    }
   ],
   "source": [
    "sales_df.groupby(\"invoice_date\")[[\"sales_in_litres\"]].mean().plot(figsize=(20,8));"
   ]
  },
  {
   "cell_type": "code",
   "execution_count": 36,
   "id": "0f146776",
   "metadata": {},
   "outputs": [
    {
     "data": {
      "image/png": "[encoded data removed]",
      "text/plain": [
       "<Figure size 1440x360 with 1 Axes>"
      ]
     },
     "metadata": {
      "needs_background": "light"
     },
     "output_type": "display_data"
    },
    {
     "data": {
      "image/png": "[encoded data removed]",
      "text/plain": [
       "<Figure size 1440x360 with 1 Axes>"
      ]
     },
     "metadata": {
      "needs_background": "light"
     },
     "output_type": "display_data"
    },
    {
     "data": {
      "image/png": "[encoded data removed]",
      "text/plain": [
       "<Figure size 1440x360 with 1 Axes>"
      ]
     },
     "metadata": {
      "needs_background": "light"
     },
     "output_type": "display_data"
    },
    {
     "data": {
      "image/png": "[encoded data removed]",
      "text/plain": [
       "<Figure size 1440x360 with 1 Axes>"
      ]
     },
     "metadata": {
      "needs_background": "light"
     },
     "output_type": "display_data"
    },
    {
     "data": {
      "image/png": "[encoded data removed]",
      "text/plain": [
       "<Figure size 1440x360 with 1 Axes>"
      ]
     },
     "metadata": {
      "needs_background": "light"
     },
     "output_type": "display_data"
    },
    {
     "data": {
      "image/png": "[encoded data removed]",
      "text/plain": [
       "<Figure size 1440x360 with 1 Axes>"
      ]
     },
     "metadata": {
      "needs_background": "light"
     },
     "output_type": "display_data"
    },
    {
     "data": {
      "image/png": "[encoded data removed]",
      "text/plain": [
       "<Figure size 1440x360 with 1 Axes>"
      ]
     },
     "metadata": {
      "needs_background": "light"
     },
     "output_type": "display_data"
    },
    {
     "data": {
      "image/png": "[encoded data removed]",
      "text/plain": [
       "<Figure size 1440x360 with 1 Axes>"
      ]
     },
     "metadata": {
      "needs_background": "light"
     },
     "output_type": "display_data"
    },
    {
     "data": {
      "image/png": "[encoded data removed]",
      "text/plain": [
       "<Figure size 1440x360 with 1 Axes>"
      ]
     },
     "metadata": {
      "needs_background": "light"
     },
     "output_type": "display_data"
    },
    {
     "data": {
      "image/png": "[encoded data removed]",
      "text/plain": [
       "<Figure size 1440x360 with 1 Axes>"
      ]
     },
     "metadata": {
      "needs_background": "light"
     },
     "output_type": "display_data"
    },
    {
     "data": {
      "image/png": "[encoded data removed]",
      "text/plain": [
       "<Figure size 1440x360 with 1 Axes>"
      ]
     },
     "metadata": {
      "needs_background": "light"
     },
     "output_type": "display_data"
    },
    {
     "data": {
      "image/png": "[encoded data removed]",
      "text/plain": [
       "<Figure size 1440x360 with 1 Axes>"
      ]
     },
     "metadata": {
      "needs_background": "light"
     },
     "output_type": "display_data"
    }
   ],
   "source": [
    "for i in sales_df.columns:\n",
    "    plt.figure(figsize=(20, 5))\n",
    "    plt.hist(sales_df[i])\n",
    "    plt.title(i);"
   ]
  },
  {
   "cell_type": "markdown",
   "id": "fce5aba0",
   "metadata": {},
   "source": [
    "**Same Visualization in tabular format:**"
   ]
  },
  {
   "cell_type": "code",
   "execution_count": 37,
   "id": "681e01a1",
   "metadata": {},
   "outputs": [
    {
     "name": "stdout",
     "output_type": "stream",
     "text": [
      "outletCode:\n",
      "customer_id_2721    2435\n",
      "customer_id_923     1703\n",
      "customer_id_1636    1570\n",
      "customer_id_361     1433\n",
      "customer_id_2707    1374\n",
      "                    ... \n",
      "customer_id_133        1\n",
      "customer_id_386        1\n",
      "customer_id_717        1\n",
      "customer_id_455        1\n",
      "customer_id_2648       1\n",
      "Name: outletCode, Length: 2780, dtype: int64\n",
      "-------------------------------------------------\n",
      "invoice_date:\n",
      "2020-08-10    861\n",
      "2020-03-02    853\n",
      "2019-10-19    809\n",
      "2019-05-04    806\n",
      "2020-07-29    792\n",
      "             ... \n",
      "2019-06-08     87\n",
      "2020-10-28     86\n",
      "2020-10-25     60\n",
      "2020-01-23     31\n",
      "2019-02-17      7\n",
      "Name: invoice_date, Length: 630, dtype: int64\n",
      "-------------------------------------------------\n",
      "itemCode:\n",
      "sku_id_14    41118\n",
      "sku_id_11    35627\n",
      "sku_id_17    30155\n",
      "sku_id_16    26397\n",
      "sku_id_44    17908\n",
      "             ...  \n",
      "sku_id_22        1\n",
      "sku_id_37        1\n",
      "sku_id_30        1\n",
      "sku_id_9         1\n",
      "sku_id_3         1\n",
      "Name: itemCode, Length: 71, dtype: int64\n",
      "-------------------------------------------------\n",
      "sales_in_litres:\n",
      "16.0      43918\n",
      "12.0      32492\n",
      "15.0      23026\n",
      "4.0       16568\n",
      "32.0      15947\n",
      "          ...  \n",
      "3850.0        1\n",
      "372.0         1\n",
      "117.0         1\n",
      "736.0         1\n",
      "178.0         1\n",
      "Name: sales_in_litres, Length: 444, dtype: int64\n",
      "-------------------------------------------------\n",
      "packet_size:\n",
      "4.00      113512\n",
      "1.00       71441\n",
      "5.00       63930\n",
      "20.00      17266\n",
      "22.00      16642\n",
      "0.50         492\n",
      "0.25         135\n",
      "209.00        64\n",
      "18.00         63\n",
      "Name: packet_size, dtype: int64\n",
      "-------------------------------------------------\n",
      "brand:\n",
      "brand_6     190836\n",
      "brand_9      67578\n",
      "brand_10     15336\n",
      "brand_5       5125\n",
      "brand_1       3806\n",
      "brand_4        584\n",
      "brand_2        135\n",
      "brand_7        125\n",
      "brand_11        15\n",
      "brand_8          3\n",
      "brand_3          2\n",
      "Name: brand, dtype: int64\n",
      "-------------------------------------------------\n",
      "category:\n",
      "sku_category_11    61756\n",
      "sku_category_9     53027\n",
      "sku_category_10    49337\n",
      "sku_category_16    32935\n",
      "sku_category_14    23849\n",
      "sku_category_26    21751\n",
      "sku_category_17    10569\n",
      "sku_category_22     9237\n",
      "sku_category_21     6012\n",
      "sku_category_8      5125\n",
      "sku_category_12     4499\n",
      "sku_category_1      3806\n",
      "sku_category_7       495\n",
      "sku_category_3       466\n",
      "sku_category_18      213\n",
      "sku_category_2       135\n",
      "sku_category_6        89\n",
      "sku_category_20       87\n",
      "sku_category_24       83\n",
      "sku_category_19       38\n",
      "sku_category_25       15\n",
      "sku_category_15       12\n",
      "sku_category_23        4\n",
      "sku_category_13        3\n",
      "sku_category_5         1\n",
      "sku_category_4         1\n",
      "Name: category, dtype: int64\n",
      "-------------------------------------------------\n",
      "class:\n",
      "sku_class_1    247326\n",
      "sku_class_2     36219\n",
      "Name: class, dtype: int64\n",
      "-------------------------------------------------\n",
      "latitude:\n",
      "30.044399    3068\n",
      "30.146099    3032\n",
      "30.046700    2035\n",
      "30.044300    1840\n",
      "30.108601    1709\n",
      "             ... \n",
      "29.965900       1\n",
      "29.620001       1\n",
      "30.042200       1\n",
      "29.809401       1\n",
      "29.944300       1\n",
      "Name: latitude, Length: 1850, dtype: int64\n",
      "-------------------------------------------------\n",
      "longitude:\n",
      "31.399200    2675\n",
      "31.373400    2617\n",
      "31.205099    1582\n",
      "31.555901    1520\n",
      "31.274900    1447\n",
      "             ... \n",
      "31.101999       1\n",
      "31.155300       1\n",
      "31.207899       1\n",
      "31.313900       1\n",
      "30.907700       1\n",
      "Name: longitude, Length: 1764, dtype: int64\n",
      "-------------------------------------------------\n",
      "outletType:\n",
      "type_5    165688\n",
      "type_8     42261\n",
      "type_1     29108\n",
      "type_4     19652\n",
      "type_6     16533\n",
      "type_3      9199\n",
      "type_7       900\n",
      "type_2       204\n",
      "Name: outletType, dtype: int64\n",
      "-------------------------------------------------\n",
      "outletCategory:\n",
      "category_2    227796\n",
      "category_1     55749\n",
      "Name: outletCategory, dtype: int64\n",
      "-------------------------------------------------\n"
     ]
    }
   ],
   "source": [
    "for i in sales_df.columns:\n",
    "    print(f\"{i}:\")\n",
    "    print(sales_df[i].value_counts())\n",
    "    print(\"-------------------------------------------------\")"
   ]
  },
  {
   "cell_type": "markdown",
   "id": "201ea890",
   "metadata": {},
   "source": []
  },
  {
   "cell_type": "markdown",
   "id": "dc264d5f",
   "metadata": {},
   "source": [
    "**Visualizing `sales_in_litres`**"
   ]
  },
  {
   "cell_type": "code",
   "execution_count": 38,
   "id": "56b62972",
   "metadata": {},
   "outputs": [
    {
     "data": {
      "image/png": "[encoded data removed]",
      "text/plain": [
       "<Figure size 432x288 with 1 Axes>"
      ]
     },
     "metadata": {
      "needs_background": "light"
     },
     "output_type": "display_data"
    }
   ],
   "source": [
    "sales_df[\"sales_in_litres\"].plot(kind='hist', bins=50);"
   ]
  },
  {
   "cell_type": "code",
   "execution_count": 39,
   "id": "fc9e98ac",
   "metadata": {},
   "outputs": [
    {
     "data": {
      "image/png": "[encoded data removed]",
      "text/plain": [
       "<Figure size 720x720 with 1 Axes>"
      ]
     },
     "metadata": {
      "needs_background": "light"
     },
     "output_type": "display_data"
    }
   ],
   "source": [
    "sales_df.boxplot(\"sales_in_litres\", figsize=(10, 10));"
   ]
  },
  {
   "cell_type": "markdown",
   "id": "58ee45f5",
   "metadata": {},
   "source": [
    "### Since the data is skewed, looking for outliers.."
   ]
  },
  {
   "cell_type": "code",
   "execution_count": 40,
   "id": "6bf73dd8",
   "metadata": {},
   "outputs": [],
   "source": [
    "# Identifing outliers\n",
    "q1 = sales_df[\"sales_in_litres\"].quantile(q=0.25)\n",
    "q3 = sales_df[\"sales_in_litres\"].quantile(q=.75)\n",
    "iqr = q3-q1"
   ]
  },
  {
   "cell_type": "code",
   "execution_count": 41,
   "id": "88b7546a",
   "metadata": {},
   "outputs": [],
   "source": [
    "lower = q1-1.5*iqr\n",
    "upper = q3+1.5*iqr"
   ]
  },
  {
   "cell_type": "code",
   "execution_count": 42,
   "id": "7cca6866",
   "metadata": {},
   "outputs": [
    {
     "data": {
      "text/plain": [
       "((37145, 12), (283545, 12))"
      ]
     },
     "execution_count": 42,
     "metadata": {},
     "output_type": "execute_result"
    }
   ],
   "source": [
    "outliers = sales_df[(sales_df[\"sales_in_litres\"]<lower) | (sales_df[\"sales_in_litres\"]>upper)]\n",
    "outliers.shape, sales_df.shape"
   ]
  },
  {
   "cell_type": "code",
   "execution_count": 43,
   "id": "d33ef348",
   "metadata": {},
   "outputs": [
    {
     "name": "stdout",
     "output_type": "stream",
     "text": [
      "percentage of oultiers: 13.10%\n"
     ]
    }
   ],
   "source": [
    "print(f\"percentage of oultiers: {(37145/283545)*100:.2f}%\")"
   ]
  },
  {
   "cell_type": "markdown",
   "id": "8fd165d5",
   "metadata": {},
   "source": [
    "### For now removing the outliers from the data set."
   ]
  },
  {
   "cell_type": "code",
   "execution_count": 44,
   "id": "b91dec4b",
   "metadata": {},
   "outputs": [
    {
     "data": {
      "text/plain": [
       "(246079, 12)"
      ]
     },
     "execution_count": 44,
     "metadata": {},
     "output_type": "execute_result"
    }
   ],
   "source": [
    "sales_df = sales_df[(sales_df[\"sales_in_litres\"]>lower) & (sales_df[\"sales_in_litres\"]<upper)]\n",
    "sales_df.shape"
   ]
  },
  {
   "cell_type": "markdown",
   "id": "d372667f",
   "metadata": {},
   "source": [
    "**Visualizing `sales_in_litres` with respect to different columns**\n",
    "\n",
    "**Also breaking the `invoice_date` column into `invoice_year`, `invoice_month`, `invoice_week`, and `invoice_day`.**"
   ]
  },
  {
   "cell_type": "code",
   "execution_count": 45,
   "id": "a0f6d9b9",
   "metadata": {},
   "outputs": [],
   "source": [
    "sales_df[\"invoice_year\"] = sales_df[\"invoice_date\"].dt.year\n",
    "sales_df[\"invoice_month\"] = sales_df[\"invoice_date\"].dt.month\n",
    "sales_df[\"invoice_week\"] = sales_df[\"invoice_date\"].dt.week\n",
    "sales_df[\"invoice_day\"] = sales_df[\"invoice_date\"].dt.day"
   ]
  },
  {
   "cell_type": "code",
   "execution_count": 46,
   "id": "80e91541",
   "metadata": {},
   "outputs": [],
   "source": [
    "test_data[\"invoice_year\"] = test_data[\"invoice_date\"].dt.year\n",
    "test_data[\"invoice_month\"] = test_data[\"invoice_date\"].dt.month\n",
    "test_data[\"invoice_week\"] = test_data[\"invoice_date\"].dt.week\n",
    "test_data[\"invoice_day\"] = test_data[\"invoice_date\"].dt.day"
   ]
  },
  {
   "cell_type": "code",
   "execution_count": 47,
   "id": "d7014812",
   "metadata": {},
   "outputs": [
    {
     "data": {
      "image/png": "[encoded data removed]",
      "text/plain": [
       "<Figure size 1080x576 with 1 Axes>"
      ]
     },
     "metadata": {
      "needs_background": "light"
     },
     "output_type": "display_data"
    }
   ],
   "source": [
    "# Month vs Sales\n",
    "fig, ax = plt.subplots(figsize=(15,8))\n",
    "sns.barplot(x=\"invoice_month\", y=\"sales_in_litres\", data=sales_df)\n",
    "ax.set(title=\"Month vs Sales\",\n",
    "       xlabel=\"Month\",\n",
    "       ylabel=\"Sales (in litres)\");"
   ]
  },
  {
   "cell_type": "code",
   "execution_count": 48,
   "id": "4bb56959",
   "metadata": {},
   "outputs": [
    {
     "data": {
      "text/html": [
       "<div>\n",
       "<style scoped>\n",
       "    .dataframe tbody tr th:only-of-type {\n",
       "        vertical-align: middle;\n",
       "    }\n",
       "\n",
       "    .dataframe tbody tr th {\n",
       "        vertical-align: top;\n",
       "    }\n",
       "\n",
       "    .dataframe thead th {\n",
       "        text-align: right;\n",
       "    }\n",
       "</style>\n",
       "<table border=\"1\" class=\"dataframe\">\n",
       "  <thead>\n",
       "    <tr style=\"text-align: right;\">\n",
       "      <th></th>\n",
       "      <th>sales_in_litres</th>\n",
       "    </tr>\n",
       "    <tr>\n",
       "      <th>invoice_month</th>\n",
       "      <th></th>\n",
       "    </tr>\n",
       "  </thead>\n",
       "  <tbody>\n",
       "    <tr>\n",
       "      <th>1</th>\n",
       "      <td>19.642579</td>\n",
       "    </tr>\n",
       "    <tr>\n",
       "      <th>2</th>\n",
       "      <td>19.544130</td>\n",
       "    </tr>\n",
       "    <tr>\n",
       "      <th>3</th>\n",
       "      <td>19.330366</td>\n",
       "    </tr>\n",
       "    <tr>\n",
       "      <th>4</th>\n",
       "      <td>20.015822</td>\n",
       "    </tr>\n",
       "    <tr>\n",
       "      <th>5</th>\n",
       "      <td>20.063827</td>\n",
       "    </tr>\n",
       "    <tr>\n",
       "      <th>6</th>\n",
       "      <td>20.202809</td>\n",
       "    </tr>\n",
       "    <tr>\n",
       "      <th>7</th>\n",
       "      <td>20.129466</td>\n",
       "    </tr>\n",
       "    <tr>\n",
       "      <th>8</th>\n",
       "      <td>20.286536</td>\n",
       "    </tr>\n",
       "    <tr>\n",
       "      <th>9</th>\n",
       "      <td>20.196378</td>\n",
       "    </tr>\n",
       "    <tr>\n",
       "      <th>10</th>\n",
       "      <td>20.012600</td>\n",
       "    </tr>\n",
       "    <tr>\n",
       "      <th>11</th>\n",
       "      <td>19.695802</td>\n",
       "    </tr>\n",
       "    <tr>\n",
       "      <th>12</th>\n",
       "      <td>19.939541</td>\n",
       "    </tr>\n",
       "  </tbody>\n",
       "</table>\n",
       "</div>"
      ],
      "text/plain": [
       "               sales_in_litres\n",
       "invoice_month                 \n",
       "1                    19.642579\n",
       "2                    19.544130\n",
       "3                    19.330366\n",
       "4                    20.015822\n",
       "5                    20.063827\n",
       "6                    20.202809\n",
       "7                    20.129466\n",
       "8                    20.286536\n",
       "9                    20.196378\n",
       "10                   20.012600\n",
       "11                   19.695802\n",
       "12                   19.939541"
      ]
     },
     "execution_count": 48,
     "metadata": {},
     "output_type": "execute_result"
    }
   ],
   "source": [
    "pd.pivot_table(sales_df, columns=[\"invoice_month\"], values=[\"sales_in_litres\"]).T"
   ]
  },
  {
   "cell_type": "code",
   "execution_count": 49,
   "id": "800efe6b",
   "metadata": {},
   "outputs": [
    {
     "data": {
      "image/png": "[encoded data removed]",
      "text/plain": [
       "<Figure size 720x360 with 1 Axes>"
      ]
     },
     "metadata": {
      "needs_background": "light"
     },
     "output_type": "display_data"
    }
   ],
   "source": [
    "# year-wise Sales\n",
    "fig, ax = plt.subplots(figsize=(10,5))\n",
    "sns.barplot(x=\"invoice_year\", y=\"sales_in_litres\", data=sales_df)\n",
    "ax.set(title=\"Year-wise Sales\",\n",
    "       xlabel=\"Year\",\n",
    "       ylabel=\"Sales (in litres)\");"
   ]
  },
  {
   "cell_type": "code",
   "execution_count": 50,
   "id": "3841986c",
   "metadata": {},
   "outputs": [
    {
     "data": {
      "text/html": [
       "<div>\n",
       "<style scoped>\n",
       "    .dataframe tbody tr th:only-of-type {\n",
       "        vertical-align: middle;\n",
       "    }\n",
       "\n",
       "    .dataframe tbody tr th {\n",
       "        vertical-align: top;\n",
       "    }\n",
       "\n",
       "    .dataframe thead th {\n",
       "        text-align: right;\n",
       "    }\n",
       "</style>\n",
       "<table border=\"1\" class=\"dataframe\">\n",
       "  <thead>\n",
       "    <tr style=\"text-align: right;\">\n",
       "      <th></th>\n",
       "      <th>sales_in_litres</th>\n",
       "    </tr>\n",
       "    <tr>\n",
       "      <th>invoice_year</th>\n",
       "      <th></th>\n",
       "    </tr>\n",
       "  </thead>\n",
       "  <tbody>\n",
       "    <tr>\n",
       "      <th>2019</th>\n",
       "      <td>20.682621</td>\n",
       "    </tr>\n",
       "    <tr>\n",
       "      <th>2020</th>\n",
       "      <td>19.080498</td>\n",
       "    </tr>\n",
       "  </tbody>\n",
       "</table>\n",
       "</div>"
      ],
      "text/plain": [
       "              sales_in_litres\n",
       "invoice_year                 \n",
       "2019                20.682621\n",
       "2020                19.080498"
      ]
     },
     "execution_count": 50,
     "metadata": {},
     "output_type": "execute_result"
    }
   ],
   "source": [
    "pd.pivot_table(sales_df, columns=[\"invoice_year\"], values=[\"sales_in_litres\"]).T"
   ]
  },
  {
   "cell_type": "code",
   "execution_count": 51,
   "id": "122e8f24",
   "metadata": {},
   "outputs": [
    {
     "data": {
      "image/png": "[encoded data removed]",
      "text/plain": [
       "<Figure size 720x360 with 1 Axes>"
      ]
     },
     "metadata": {
      "needs_background": "light"
     },
     "output_type": "display_data"
    }
   ],
   "source": [
    "# Avg. Day sales\n",
    "# year-wise Sales\n",
    "fig, ax = plt.subplots(figsize=(10,5))\n",
    "sns.barplot(x=\"invoice_day\", y=\"sales_in_litres\", data=sales_df)\n",
    "ax.set(title=\"Avg.Day sales\",\n",
    "       xlabel=\"Days\",\n",
    "       ylabel=\"Sales (in litres)\");"
   ]
  },
  {
   "cell_type": "markdown",
   "id": "fd55ce8c",
   "metadata": {},
   "source": [
    "## Preparing training and test data."
   ]
  },
  {
   "cell_type": "code",
   "execution_count": 52,
   "id": "9ec436d0",
   "metadata": {},
   "outputs": [
    {
     "data": {
      "text/html": [
       "<div>\n",
       "<style scoped>\n",
       "    .dataframe tbody tr th:only-of-type {\n",
       "        vertical-align: middle;\n",
       "    }\n",
       "\n",
       "    .dataframe tbody tr th {\n",
       "        vertical-align: top;\n",
       "    }\n",
       "\n",
       "    .dataframe thead th {\n",
       "        text-align: right;\n",
       "    }\n",
       "</style>\n",
       "<table border=\"1\" class=\"dataframe\">\n",
       "  <thead>\n",
       "    <tr style=\"text-align: right;\">\n",
       "      <th></th>\n",
       "      <th>outletCode</th>\n",
       "      <th>invoice_date</th>\n",
       "      <th>itemCode</th>\n",
       "      <th>sales_in_litres</th>\n",
       "      <th>packet_size</th>\n",
       "      <th>brand</th>\n",
       "      <th>category</th>\n",
       "      <th>class</th>\n",
       "      <th>latitude</th>\n",
       "      <th>longitude</th>\n",
       "      <th>outletType</th>\n",
       "      <th>outletCategory</th>\n",
       "      <th>invoice_year</th>\n",
       "      <th>invoice_month</th>\n",
       "      <th>invoice_week</th>\n",
       "      <th>invoice_day</th>\n",
       "    </tr>\n",
       "  </thead>\n",
       "  <tbody>\n",
       "    <tr>\n",
       "      <th>0</th>\n",
       "      <td>customer_id_2744</td>\n",
       "      <td>2019-01-01</td>\n",
       "      <td>sku_id_17</td>\n",
       "      <td>16.0</td>\n",
       "      <td>4.0</td>\n",
       "      <td>brand_6</td>\n",
       "      <td>sku_category_11</td>\n",
       "      <td>sku_class_1</td>\n",
       "      <td>30.148800</td>\n",
       "      <td>31.401400</td>\n",
       "      <td>type_4</td>\n",
       "      <td>category_2</td>\n",
       "      <td>2019</td>\n",
       "      <td>1</td>\n",
       "      <td>1</td>\n",
       "      <td>1</td>\n",
       "    </tr>\n",
       "    <tr>\n",
       "      <th>1</th>\n",
       "      <td>customer_id_1266</td>\n",
       "      <td>2019-01-01</td>\n",
       "      <td>sku_id_14</td>\n",
       "      <td>24.0</td>\n",
       "      <td>4.0</td>\n",
       "      <td>brand_6</td>\n",
       "      <td>sku_category_10</td>\n",
       "      <td>sku_class_1</td>\n",
       "      <td>30.119699</td>\n",
       "      <td>31.297300</td>\n",
       "      <td>type_5</td>\n",
       "      <td>category_2</td>\n",
       "      <td>2019</td>\n",
       "      <td>1</td>\n",
       "      <td>1</td>\n",
       "      <td>1</td>\n",
       "    </tr>\n",
       "    <tr>\n",
       "      <th>2</th>\n",
       "      <td>customer_id_766</td>\n",
       "      <td>2019-01-01</td>\n",
       "      <td>sku_id_15</td>\n",
       "      <td>5.0</td>\n",
       "      <td>1.0</td>\n",
       "      <td>brand_6</td>\n",
       "      <td>sku_category_11</td>\n",
       "      <td>sku_class_1</td>\n",
       "      <td>30.130199</td>\n",
       "      <td>31.357100</td>\n",
       "      <td>type_5</td>\n",
       "      <td>category_2</td>\n",
       "      <td>2019</td>\n",
       "      <td>1</td>\n",
       "      <td>1</td>\n",
       "      <td>1</td>\n",
       "    </tr>\n",
       "    <tr>\n",
       "      <th>3</th>\n",
       "      <td>customer_id_1999</td>\n",
       "      <td>2019-01-01</td>\n",
       "      <td>sku_id_11</td>\n",
       "      <td>12.0</td>\n",
       "      <td>1.0</td>\n",
       "      <td>brand_6</td>\n",
       "      <td>sku_category_9</td>\n",
       "      <td>sku_class_1</td>\n",
       "      <td>29.764400</td>\n",
       "      <td>31.299000</td>\n",
       "      <td>type_5</td>\n",
       "      <td>category_2</td>\n",
       "      <td>2019</td>\n",
       "      <td>1</td>\n",
       "      <td>1</td>\n",
       "      <td>1</td>\n",
       "    </tr>\n",
       "    <tr>\n",
       "      <th>4</th>\n",
       "      <td>customer_id_1048</td>\n",
       "      <td>2019-01-01</td>\n",
       "      <td>sku_id_60</td>\n",
       "      <td>12.0</td>\n",
       "      <td>1.0</td>\n",
       "      <td>brand_10</td>\n",
       "      <td>sku_category_21</td>\n",
       "      <td>sku_class_1</td>\n",
       "      <td>30.044100</td>\n",
       "      <td>31.366501</td>\n",
       "      <td>type_5</td>\n",
       "      <td>category_2</td>\n",
       "      <td>2019</td>\n",
       "      <td>1</td>\n",
       "      <td>1</td>\n",
       "      <td>1</td>\n",
       "    </tr>\n",
       "  </tbody>\n",
       "</table>\n",
       "</div>"
      ],
      "text/plain": [
       "         outletCode invoice_date   itemCode  sales_in_litres  packet_size  \\\n",
       "0  customer_id_2744   2019-01-01  sku_id_17             16.0          4.0   \n",
       "1  customer_id_1266   2019-01-01  sku_id_14             24.0          4.0   \n",
       "2   customer_id_766   2019-01-01  sku_id_15              5.0          1.0   \n",
       "3  customer_id_1999   2019-01-01  sku_id_11             12.0          1.0   \n",
       "4  customer_id_1048   2019-01-01  sku_id_60             12.0          1.0   \n",
       "\n",
       "      brand         category        class   latitude  longitude outletType  \\\n",
       "0   brand_6  sku_category_11  sku_class_1  30.148800  31.401400     type_4   \n",
       "1   brand_6  sku_category_10  sku_class_1  30.119699  31.297300     type_5   \n",
       "2   brand_6  sku_category_11  sku_class_1  30.130199  31.357100     type_5   \n",
       "3   brand_6   sku_category_9  sku_class_1  29.764400  31.299000     type_5   \n",
       "4  brand_10  sku_category_21  sku_class_1  30.044100  31.366501     type_5   \n",
       "\n",
       "  outletCategory  invoice_year  invoice_month  invoice_week  invoice_day  \n",
       "0     category_2          2019              1             1            1  \n",
       "1     category_2          2019              1             1            1  \n",
       "2     category_2          2019              1             1            1  \n",
       "3     category_2          2019              1             1            1  \n",
       "4     category_2          2019              1             1            1  "
      ]
     },
     "execution_count": 52,
     "metadata": {},
     "output_type": "execute_result"
    }
   ],
   "source": [
    "sales_df.head()"
   ]
  },
  {
   "cell_type": "code",
   "execution_count": 53,
   "id": "e46a744b",
   "metadata": {},
   "outputs": [],
   "source": [
    "data = sales_df.drop([\"itemCode\", \"outletCode\",\"invoice_date\", \"brand\", \"class\"], axis=1)"
   ]
  },
  {
   "cell_type": "code",
   "execution_count": 54,
   "id": "1ba51ae1",
   "metadata": {},
   "outputs": [
    {
     "data": {
      "text/plain": [
       "Index(['sales_in_litres', 'packet_size', 'category', 'latitude', 'longitude',\n",
       "       'outletType', 'outletCategory', 'invoice_year', 'invoice_month',\n",
       "       'invoice_week', 'invoice_day'],\n",
       "      dtype='object')"
      ]
     },
     "execution_count": 54,
     "metadata": {},
     "output_type": "execute_result"
    }
   ],
   "source": [
    "data.columns"
   ]
  },
  {
   "cell_type": "code",
   "execution_count": 55,
   "id": "cf49c5cb",
   "metadata": {},
   "outputs": [],
   "source": [
    "model_data = pd.get_dummies(data, columns=[\"category\", \"outletType\", \"outletCategory\"])"
   ]
  },
  {
   "cell_type": "code",
   "execution_count": 56,
   "id": "07f6e2fd",
   "metadata": {},
   "outputs": [
    {
     "data": {
      "text/plain": [
       "(246079, 40)"
      ]
     },
     "execution_count": 56,
     "metadata": {},
     "output_type": "execute_result"
    }
   ],
   "source": [
    "model_data.shape"
   ]
  },
  {
   "cell_type": "code",
   "execution_count": 57,
   "id": "47a4eb6e",
   "metadata": {},
   "outputs": [],
   "source": [
    "# Training data\n",
    "X_train = model_data.drop('sales_in_litres', axis=1)\n",
    "y_train = model_data[\"sales_in_litres\"]"
   ]
  },
  {
   "cell_type": "code",
   "execution_count": 58,
   "id": "39db23cc",
   "metadata": {},
   "outputs": [
    {
     "data": {
      "text/html": [
       "<div>\n",
       "<style scoped>\n",
       "    .dataframe tbody tr th:only-of-type {\n",
       "        vertical-align: middle;\n",
       "    }\n",
       "\n",
       "    .dataframe tbody tr th {\n",
       "        vertical-align: top;\n",
       "    }\n",
       "\n",
       "    .dataframe thead th {\n",
       "        text-align: right;\n",
       "    }\n",
       "</style>\n",
       "<table border=\"1\" class=\"dataframe\">\n",
       "  <thead>\n",
       "    <tr style=\"text-align: right;\">\n",
       "      <th></th>\n",
       "      <th>outletCode</th>\n",
       "      <th>invoice_date</th>\n",
       "      <th>itemCode</th>\n",
       "      <th>actual_sales_in_litres</th>\n",
       "      <th>packet_size</th>\n",
       "      <th>brand</th>\n",
       "      <th>category</th>\n",
       "      <th>class</th>\n",
       "      <th>latitude</th>\n",
       "      <th>longitude</th>\n",
       "      <th>outletType</th>\n",
       "      <th>outletCategory</th>\n",
       "      <th>invoice_year</th>\n",
       "      <th>invoice_month</th>\n",
       "      <th>invoice_week</th>\n",
       "      <th>invoice_day</th>\n",
       "    </tr>\n",
       "  </thead>\n",
       "  <tbody>\n",
       "    <tr>\n",
       "      <th>0</th>\n",
       "      <td>customer_id_1552</td>\n",
       "      <td>2019-02-27</td>\n",
       "      <td>sku_id_44</td>\n",
       "      <td>30</td>\n",
       "      <td>5.0</td>\n",
       "      <td>brand_9</td>\n",
       "      <td>sku_category_16</td>\n",
       "      <td>sku_class_1</td>\n",
       "      <td>29.854200</td>\n",
       "      <td>31.229799</td>\n",
       "      <td>type_5</td>\n",
       "      <td>category_2</td>\n",
       "      <td>2019</td>\n",
       "      <td>2</td>\n",
       "      <td>9</td>\n",
       "      <td>27</td>\n",
       "    </tr>\n",
       "    <tr>\n",
       "      <th>1</th>\n",
       "      <td>customer_id_1552</td>\n",
       "      <td>2019-02-27</td>\n",
       "      <td>sku_id_12</td>\n",
       "      <td>16</td>\n",
       "      <td>4.0</td>\n",
       "      <td>brand_6</td>\n",
       "      <td>sku_category_9</td>\n",
       "      <td>sku_class_1</td>\n",
       "      <td>29.854200</td>\n",
       "      <td>31.229799</td>\n",
       "      <td>type_5</td>\n",
       "      <td>category_2</td>\n",
       "      <td>2019</td>\n",
       "      <td>2</td>\n",
       "      <td>9</td>\n",
       "      <td>27</td>\n",
       "    </tr>\n",
       "    <tr>\n",
       "      <th>2</th>\n",
       "      <td>customer_id_1552</td>\n",
       "      <td>2019-03-13</td>\n",
       "      <td>sku_id_44</td>\n",
       "      <td>45</td>\n",
       "      <td>5.0</td>\n",
       "      <td>brand_9</td>\n",
       "      <td>sku_category_16</td>\n",
       "      <td>sku_class_1</td>\n",
       "      <td>29.854200</td>\n",
       "      <td>31.229799</td>\n",
       "      <td>type_5</td>\n",
       "      <td>category_2</td>\n",
       "      <td>2019</td>\n",
       "      <td>3</td>\n",
       "      <td>11</td>\n",
       "      <td>13</td>\n",
       "    </tr>\n",
       "    <tr>\n",
       "      <th>3</th>\n",
       "      <td>customer_id_359</td>\n",
       "      <td>2019-03-23</td>\n",
       "      <td>sku_id_19</td>\n",
       "      <td>16</td>\n",
       "      <td>4.0</td>\n",
       "      <td>brand_6</td>\n",
       "      <td>sku_category_12</td>\n",
       "      <td>sku_class_2</td>\n",
       "      <td>29.912001</td>\n",
       "      <td>30.903799</td>\n",
       "      <td>type_3</td>\n",
       "      <td>category_2</td>\n",
       "      <td>2019</td>\n",
       "      <td>3</td>\n",
       "      <td>12</td>\n",
       "      <td>23</td>\n",
       "    </tr>\n",
       "    <tr>\n",
       "      <th>4</th>\n",
       "      <td>customer_id_1080</td>\n",
       "      <td>2019-04-01</td>\n",
       "      <td>sku_id_66</td>\n",
       "      <td>3</td>\n",
       "      <td>1.0</td>\n",
       "      <td>brand_10</td>\n",
       "      <td>sku_category_22</td>\n",
       "      <td>sku_class_1</td>\n",
       "      <td>29.987499</td>\n",
       "      <td>31.285400</td>\n",
       "      <td>type_6</td>\n",
       "      <td>category_2</td>\n",
       "      <td>2019</td>\n",
       "      <td>4</td>\n",
       "      <td>14</td>\n",
       "      <td>1</td>\n",
       "    </tr>\n",
       "  </tbody>\n",
       "</table>\n",
       "</div>"
      ],
      "text/plain": [
       "         outletCode invoice_date   itemCode  actual_sales_in_litres  \\\n",
       "0  customer_id_1552   2019-02-27  sku_id_44                      30   \n",
       "1  customer_id_1552   2019-02-27  sku_id_12                      16   \n",
       "2  customer_id_1552   2019-03-13  sku_id_44                      45   \n",
       "3   customer_id_359   2019-03-23  sku_id_19                      16   \n",
       "4  customer_id_1080   2019-04-01  sku_id_66                       3   \n",
       "\n",
       "   packet_size     brand         category        class   latitude  longitude  \\\n",
       "0          5.0   brand_9  sku_category_16  sku_class_1  29.854200  31.229799   \n",
       "1          4.0   brand_6   sku_category_9  sku_class_1  29.854200  31.229799   \n",
       "2          5.0   brand_9  sku_category_16  sku_class_1  29.854200  31.229799   \n",
       "3          4.0   brand_6  sku_category_12  sku_class_2  29.912001  30.903799   \n",
       "4          1.0  brand_10  sku_category_22  sku_class_1  29.987499  31.285400   \n",
       "\n",
       "  outletType outletCategory  invoice_year  invoice_month  invoice_week  \\\n",
       "0     type_5     category_2          2019              2             9   \n",
       "1     type_5     category_2          2019              2             9   \n",
       "2     type_5     category_2          2019              3            11   \n",
       "3     type_3     category_2          2019              3            12   \n",
       "4     type_6     category_2          2019              4            14   \n",
       "\n",
       "   invoice_day  \n",
       "0           27  \n",
       "1           27  \n",
       "2           13  \n",
       "3           23  \n",
       "4            1  "
      ]
     },
     "execution_count": 58,
     "metadata": {},
     "output_type": "execute_result"
    }
   ],
   "source": [
    "# Test data\n",
    "test_data.head()"
   ]
  },
  {
   "cell_type": "code",
   "execution_count": 59,
   "id": "6275d740",
   "metadata": {},
   "outputs": [],
   "source": [
    "model_test_data = test_data.drop([\"itemCode\", \"outletCode\",\"invoice_date\", \"brand\", \"class\"], axis=1)"
   ]
  },
  {
   "cell_type": "code",
   "execution_count": 60,
   "id": "57ce20a0",
   "metadata": {},
   "outputs": [
    {
     "data": {
      "text/plain": [
       "Index(['actual_sales_in_litres', 'packet_size', 'category', 'latitude',\n",
       "       'longitude', 'outletType', 'outletCategory', 'invoice_year',\n",
       "       'invoice_month', 'invoice_week', 'invoice_day'],\n",
       "      dtype='object')"
      ]
     },
     "execution_count": 60,
     "metadata": {},
     "output_type": "execute_result"
    }
   ],
   "source": [
    "model_test_data.columns"
   ]
  },
  {
   "cell_type": "code",
   "execution_count": 61,
   "id": "9a037cdd",
   "metadata": {},
   "outputs": [],
   "source": [
    "model_test_data = pd.get_dummies(model_test_data, columns=[\"category\", \"outletType\", \"outletCategory\"])"
   ]
  },
  {
   "cell_type": "code",
   "execution_count": 62,
   "id": "b6c6c3b3",
   "metadata": {},
   "outputs": [],
   "source": [
    "X_test = model_test_data.drop(\"actual_sales_in_litres\", axis=1)\n",
    "y_test = model_test_data[\"actual_sales_in_litres\"]"
   ]
  },
  {
   "cell_type": "code",
   "execution_count": 63,
   "id": "2ca999a9",
   "metadata": {},
   "outputs": [
    {
     "data": {
      "text/plain": [
       "Index(['packet_size', 'latitude', 'longitude', 'invoice_year', 'invoice_month',\n",
       "       'invoice_week', 'invoice_day', 'category_sku_category_1',\n",
       "       'category_sku_category_10', 'category_sku_category_11',\n",
       "       'category_sku_category_12', 'category_sku_category_14',\n",
       "       'category_sku_category_15', 'category_sku_category_16',\n",
       "       'category_sku_category_17', 'category_sku_category_18',\n",
       "       'category_sku_category_19', 'category_sku_category_2',\n",
       "       'category_sku_category_20', 'category_sku_category_21',\n",
       "       'category_sku_category_22', 'category_sku_category_24',\n",
       "       'category_sku_category_25', 'category_sku_category_26',\n",
       "       'category_sku_category_3', 'category_sku_category_6',\n",
       "       'category_sku_category_7', 'category_sku_category_8',\n",
       "       'category_sku_category_9', 'outletType_type_1', 'outletType_type_2',\n",
       "       'outletType_type_3', 'outletType_type_4', 'outletType_type_5',\n",
       "       'outletType_type_6', 'outletType_type_7', 'outletType_type_8',\n",
       "       'outletCategory_category_1', 'outletCategory_category_2'],\n",
       "      dtype='object')"
      ]
     },
     "execution_count": 63,
     "metadata": {},
     "output_type": "execute_result"
    }
   ],
   "source": [
    "X_train.columns"
   ]
  },
  {
   "cell_type": "code",
   "execution_count": 64,
   "id": "13c8dc2e",
   "metadata": {},
   "outputs": [
    {
     "data": {
      "text/plain": [
       "Index(['packet_size', 'latitude', 'longitude', 'invoice_year', 'invoice_month',\n",
       "       'invoice_week', 'invoice_day', 'category_sku_category_1',\n",
       "       'category_sku_category_10', 'category_sku_category_11',\n",
       "       'category_sku_category_12', 'category_sku_category_14',\n",
       "       'category_sku_category_16', 'category_sku_category_17',\n",
       "       'category_sku_category_18', 'category_sku_category_2',\n",
       "       'category_sku_category_20', 'category_sku_category_21',\n",
       "       'category_sku_category_22', 'category_sku_category_23',\n",
       "       'category_sku_category_26', 'category_sku_category_3',\n",
       "       'category_sku_category_7', 'category_sku_category_8',\n",
       "       'category_sku_category_9', 'outletType_type_1', 'outletType_type_2',\n",
       "       'outletType_type_3', 'outletType_type_4', 'outletType_type_5',\n",
       "       'outletType_type_6', 'outletType_type_7', 'outletType_type_8',\n",
       "       'outletCategory_category_1', 'outletCategory_category_2'],\n",
       "      dtype='object')"
      ]
     },
     "execution_count": 64,
     "metadata": {},
     "output_type": "execute_result"
    }
   ],
   "source": [
    "X_test.columns"
   ]
  },
  {
   "cell_type": "markdown",
   "id": "660da286",
   "metadata": {},
   "source": [
    "### Filling missing columns"
   ]
  },
  {
   "cell_type": "code",
   "execution_count": 65,
   "id": "1da71ded",
   "metadata": {},
   "outputs": [],
   "source": [
    "X_train = X_train.assign(category_sku_category_23=0)"
   ]
  },
  {
   "cell_type": "code",
   "execution_count": 66,
   "id": "3f231333",
   "metadata": {},
   "outputs": [],
   "source": [
    "X_test = X_test.assign(category_sku_category_15=0)\n",
    "X_test = X_test.assign(category_sku_category_19=0)\n",
    "X_test = X_test.assign(category_sku_category_24=0)\n",
    "X_test = X_test.assign(category_sku_category_25=0)\n",
    "X_test = X_test.assign(category_sku_category_6=0)"
   ]
  },
  {
   "cell_type": "code",
   "execution_count": 67,
   "id": "35ad08c5",
   "metadata": {},
   "outputs": [
    {
     "data": {
      "text/plain": [
       "((246079, 40), (11013, 40))"
      ]
     },
     "execution_count": 67,
     "metadata": {},
     "output_type": "execute_result"
    }
   ],
   "source": [
    "X_train.shape, X_test.shape"
   ]
  },
  {
   "cell_type": "markdown",
   "id": "95d0c6ed",
   "metadata": {},
   "source": [
    "## Training the model"
   ]
  },
  {
   "cell_type": "code",
   "execution_count": 68,
   "id": "5aab1f53",
   "metadata": {},
   "outputs": [
    {
     "data": {
      "text/plain": [
       "LinearRegression()"
      ]
     },
     "execution_count": 68,
     "metadata": {},
     "output_type": "execute_result"
    }
   ],
   "source": [
    "# Selecting model and fitting data into model\n",
    "from sklearn.linear_model import LinearRegression\n",
    "\n",
    "lr = LinearRegression()\n",
    "\n",
    "lr.fit(X_train, y_train)"
   ]
  },
  {
   "cell_type": "code",
   "execution_count": 69,
   "id": "1d41fc1a",
   "metadata": {},
   "outputs": [
    {
     "data": {
      "text/plain": [
       "-1.512261915486127e+21"
      ]
     },
     "execution_count": 69,
     "metadata": {},
     "output_type": "execute_result"
    }
   ],
   "source": [
    "lr.score(X_test, y_test)"
   ]
  },
  {
   "cell_type": "code",
   "execution_count": 70,
   "id": "18c3b53e",
   "metadata": {},
   "outputs": [],
   "source": [
    "y_pred = lr.predict(X_test)"
   ]
  },
  {
   "cell_type": "code",
   "execution_count": 71,
   "id": "280bfde5",
   "metadata": {},
   "outputs": [
    {
     "data": {
      "text/plain": [
       "476774025936.18286"
      ]
     },
     "execution_count": 71,
     "metadata": {},
     "output_type": "execute_result"
    }
   ],
   "source": [
    "from sklearn.metrics import mean_absolute_percentage_error\n",
    "mean_absolute_percentage_error(y_test, y_pred)"
   ]
  },
  {
   "cell_type": "markdown",
   "id": "68009212",
   "metadata": {},
   "source": [
    "### Selecting different model"
   ]
  },
  {
   "cell_type": "code",
   "execution_count": 72,
   "id": "2be865ad",
   "metadata": {},
   "outputs": [
    {
     "data": {
      "text/plain": [
       "-0.0076122816250165926"
      ]
     },
     "execution_count": 72,
     "metadata": {},
     "output_type": "execute_result"
    }
   ],
   "source": [
    "\n",
    "from sklearn.ensemble import RandomForestRegressor\n",
    "\n",
    "rfr = RandomForestRegressor()\n",
    "\n",
    "rfr.fit(X_train, y_train)\n",
    "\n",
    "rfr.score(X_test, y_test)"
   ]
  },
  {
   "cell_type": "code",
   "execution_count": 73,
   "id": "f9e9500b",
   "metadata": {},
   "outputs": [
    {
     "data": {
      "text/plain": [
       "1.163660624962601"
      ]
     },
     "execution_count": 73,
     "metadata": {},
     "output_type": "execute_result"
    }
   ],
   "source": [
    "y_pred = rfr.predict(X_test)\n",
    "mean_absolute_percentage_error(y_test, y_pred)"
   ]
  },
  {
   "cell_type": "markdown",
   "id": "4cd2b33d",
   "metadata": {},
   "source": [
    "### NO model is giving +ve results\n",
    "\n",
    "Have to modify the data"
   ]
  },
  {
   "cell_type": "markdown",
   "id": "cf9c02a1",
   "metadata": {},
   "source": []
  },
  {
   "cell_type": "markdown",
   "id": "872d5484",
   "metadata": {},
   "source": [
    "## Using only `model_data`"
   ]
  },
  {
   "cell_type": "code",
   "execution_count": 74,
   "id": "c902e431",
   "metadata": {},
   "outputs": [
    {
     "data": {
      "text/plain": [
       "Index(['itemCode', 'sales_in_litres', 'packet_size', 'category', 'latitude',\n",
       "       'longitude', 'outletType', 'outletCategory', 'invoice_year',\n",
       "       'invoice_month', 'invoice_week', 'invoice_day'],\n",
       "      dtype='object')"
      ]
     },
     "execution_count": 74,
     "metadata": {},
     "output_type": "execute_result"
    }
   ],
   "source": [
    "model_data_modified = sales_df.drop([\"invoice_date\",\"outletCode\", \"brand\", \"class\"], axis=1)\n",
    "model_data_modified.columns"
   ]
  },
  {
   "cell_type": "code",
   "execution_count": 75,
   "id": "9100eda2",
   "metadata": {},
   "outputs": [],
   "source": [
    "model_data_modified = pd.get_dummies(model_data_modified, columns=[\"itemCode\", \"category\", \"outletType\", \"outletCategory\"])"
   ]
  },
  {
   "cell_type": "code",
   "execution_count": 76,
   "id": "153b7c44",
   "metadata": {},
   "outputs": [
    {
     "data": {
      "text/plain": [
       "(246079, 97)"
      ]
     },
     "execution_count": 76,
     "metadata": {},
     "output_type": "execute_result"
    }
   ],
   "source": [
    "model_data_modified.shape"
   ]
  },
  {
   "cell_type": "code",
   "execution_count": 77,
   "id": "924f330f",
   "metadata": {},
   "outputs": [],
   "source": [
    "# Splsklearnarng X and y\n",
    "X = model_data_modified.drop(\"sales_in_litres\", axis=1)\n",
    "y = model_data_modified[\"sales_in_litres\"]"
   ]
  },
  {
   "cell_type": "code",
   "execution_count": 78,
   "id": "214c3ae2",
   "metadata": {},
   "outputs": [],
   "source": [
    "# Train and test data\n",
    "from sklearn.model_selection import train_test_split\n",
    "np.random.seed(117)\n",
    "\n",
    "X_train, X_test, y_train, y_test = train_test_split(X, y, test_size=.15)"
   ]
  },
  {
   "cell_type": "code",
   "execution_count": 79,
   "id": "93748a55",
   "metadata": {},
   "outputs": [
    {
     "data": {
      "text/plain": [
       "-2625815316521158.5"
      ]
     },
     "execution_count": 79,
     "metadata": {},
     "output_type": "execute_result"
    }
   ],
   "source": [
    "# Selecting model and fitting data into model\n",
    "from sklearn.linear_model import LinearRegression\n",
    "\n",
    "model = LinearRegression()\n",
    "\n",
    "model.fit(X_train, y_train)\n",
    "\n",
    "model.score(X_test, y_test)"
   ]
  },
  {
   "cell_type": "code",
   "execution_count": 80,
   "id": "115eef52",
   "metadata": {},
   "outputs": [],
   "source": [
    "y_pred = model.predict(X_test)"
   ]
  },
  {
   "cell_type": "code",
   "execution_count": 81,
   "id": "dfa80023",
   "metadata": {},
   "outputs": [
    {
     "data": {
      "text/plain": [
       "119965.22025155119"
      ]
     },
     "execution_count": 81,
     "metadata": {},
     "output_type": "execute_result"
    }
   ],
   "source": [
    "from sklearn.metrics import mean_absolute_percentage_error\n",
    "mean_absolute_percentage_error(y_test, y_pred)"
   ]
  },
  {
   "cell_type": "markdown",
   "id": "28b8b976",
   "metadata": {},
   "source": [
    "### This also is not giving good results 😭😭😭😭..."
   ]
  },
  {
   "cell_type": "code",
   "execution_count": null,
   "id": "82344dfa",
   "metadata": {},
   "outputs": [],
   "source": []
  }
 ],
 "metadata": {
  "kernelspec": {
   "display_name": "Python 3 (ipykernel)",
   "language": "python",
   "name": "python3"
  },
  "language_info": {
   "codemirror_mode": {
    "name": "ipython",
    "version": 3
   },
   "file_extension": ".py",
   "mimetype": "text/x-python",
   "name": "python",
   "nbconvert_exporter": "python",
   "pygments_lexer": "ipython3",
   "version": "3.9.7"
  }
 },
 "nbformat": 4,
 "nbformat_minor": 5
}
